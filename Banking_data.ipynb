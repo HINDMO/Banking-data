{
 "cells": [
  {
   "cell_type": "code",
   "execution_count": 1,
   "id": "44b4172f",
   "metadata": {},
   "outputs": [],
   "source": [
    "import pandas as pd\n",
    "data=pd.read_csv('ScoringTraining.csv')\n"
   ]
  },
  {
   "cell_type": "code",
   "execution_count": 2,
   "id": "3ed324ae",
   "metadata": {},
   "outputs": [
    {
     "data": {
      "text/html": [
       "<div>\n",
       "<style scoped>\n",
       "    .dataframe tbody tr th:only-of-type {\n",
       "        vertical-align: middle;\n",
       "    }\n",
       "\n",
       "    .dataframe tbody tr th {\n",
       "        vertical-align: top;\n",
       "    }\n",
       "\n",
       "    .dataframe thead th {\n",
       "        text-align: right;\n",
       "    }\n",
       "</style>\n",
       "<table border=\"1\" class=\"dataframe\">\n",
       "  <thead>\n",
       "    <tr style=\"text-align: right;\">\n",
       "      <th></th>\n",
       "      <th>Unnamed: 0</th>\n",
       "      <th>SeriousDlqin2yrs</th>\n",
       "      <th>RevolvingUtilizationOfUnsecuredLines</th>\n",
       "      <th>age</th>\n",
       "      <th>NumberOfTime30-59DaysPastDueNotWorse</th>\n",
       "      <th>DebtRatio</th>\n",
       "      <th>MonthlyIncome</th>\n",
       "      <th>NumberOfOpenCreditLinesAndLoans</th>\n",
       "      <th>NumberOfTimes90DaysLate</th>\n",
       "      <th>NumberRealEstateLoansOrLines</th>\n",
       "      <th>NumberOfTime60-89DaysPastDueNotWorse</th>\n",
       "      <th>NumberOfDependents</th>\n",
       "    </tr>\n",
       "  </thead>\n",
       "  <tbody>\n",
       "    <tr>\n",
       "      <th>0</th>\n",
       "      <td>1</td>\n",
       "      <td>1</td>\n",
       "      <td>0.766127</td>\n",
       "      <td>45</td>\n",
       "      <td>2</td>\n",
       "      <td>0.802982</td>\n",
       "      <td>9120.0</td>\n",
       "      <td>13</td>\n",
       "      <td>0</td>\n",
       "      <td>6</td>\n",
       "      <td>0</td>\n",
       "      <td>2.0</td>\n",
       "    </tr>\n",
       "    <tr>\n",
       "      <th>1</th>\n",
       "      <td>2</td>\n",
       "      <td>0</td>\n",
       "      <td>0.957151</td>\n",
       "      <td>40</td>\n",
       "      <td>0</td>\n",
       "      <td>0.121876</td>\n",
       "      <td>2600.0</td>\n",
       "      <td>4</td>\n",
       "      <td>0</td>\n",
       "      <td>0</td>\n",
       "      <td>0</td>\n",
       "      <td>1.0</td>\n",
       "    </tr>\n",
       "    <tr>\n",
       "      <th>2</th>\n",
       "      <td>3</td>\n",
       "      <td>0</td>\n",
       "      <td>0.658180</td>\n",
       "      <td>38</td>\n",
       "      <td>1</td>\n",
       "      <td>0.085113</td>\n",
       "      <td>3042.0</td>\n",
       "      <td>2</td>\n",
       "      <td>1</td>\n",
       "      <td>0</td>\n",
       "      <td>0</td>\n",
       "      <td>0.0</td>\n",
       "    </tr>\n",
       "    <tr>\n",
       "      <th>3</th>\n",
       "      <td>4</td>\n",
       "      <td>0</td>\n",
       "      <td>0.233810</td>\n",
       "      <td>30</td>\n",
       "      <td>0</td>\n",
       "      <td>0.036050</td>\n",
       "      <td>3300.0</td>\n",
       "      <td>5</td>\n",
       "      <td>0</td>\n",
       "      <td>0</td>\n",
       "      <td>0</td>\n",
       "      <td>0.0</td>\n",
       "    </tr>\n",
       "    <tr>\n",
       "      <th>4</th>\n",
       "      <td>5</td>\n",
       "      <td>0</td>\n",
       "      <td>0.907239</td>\n",
       "      <td>49</td>\n",
       "      <td>1</td>\n",
       "      <td>0.024926</td>\n",
       "      <td>63588.0</td>\n",
       "      <td>7</td>\n",
       "      <td>0</td>\n",
       "      <td>1</td>\n",
       "      <td>0</td>\n",
       "      <td>0.0</td>\n",
       "    </tr>\n",
       "  </tbody>\n",
       "</table>\n",
       "</div>"
      ],
      "text/plain": [
       "   Unnamed: 0  SeriousDlqin2yrs  RevolvingUtilizationOfUnsecuredLines  age  \\\n",
       "0           1                 1                              0.766127   45   \n",
       "1           2                 0                              0.957151   40   \n",
       "2           3                 0                              0.658180   38   \n",
       "3           4                 0                              0.233810   30   \n",
       "4           5                 0                              0.907239   49   \n",
       "\n",
       "   NumberOfTime30-59DaysPastDueNotWorse  DebtRatio  MonthlyIncome  \\\n",
       "0                                     2   0.802982         9120.0   \n",
       "1                                     0   0.121876         2600.0   \n",
       "2                                     1   0.085113         3042.0   \n",
       "3                                     0   0.036050         3300.0   \n",
       "4                                     1   0.024926        63588.0   \n",
       "\n",
       "   NumberOfOpenCreditLinesAndLoans  NumberOfTimes90DaysLate  \\\n",
       "0                               13                        0   \n",
       "1                                4                        0   \n",
       "2                                2                        1   \n",
       "3                                5                        0   \n",
       "4                                7                        0   \n",
       "\n",
       "   NumberRealEstateLoansOrLines  NumberOfTime60-89DaysPastDueNotWorse  \\\n",
       "0                             6                                     0   \n",
       "1                             0                                     0   \n",
       "2                             0                                     0   \n",
       "3                             0                                     0   \n",
       "4                             1                                     0   \n",
       "\n",
       "   NumberOfDependents  \n",
       "0                 2.0  \n",
       "1                 1.0  \n",
       "2                 0.0  \n",
       "3                 0.0  \n",
       "4                 0.0  "
      ]
     },
     "execution_count": 2,
     "metadata": {},
     "output_type": "execute_result"
    }
   ],
   "source": [
    "data.head()"
   ]
  },
  {
   "cell_type": "code",
   "execution_count": 3,
   "id": "a3011f56",
   "metadata": {},
   "outputs": [
    {
     "data": {
      "text/html": [
       "<div>\n",
       "<style scoped>\n",
       "    .dataframe tbody tr th:only-of-type {\n",
       "        vertical-align: middle;\n",
       "    }\n",
       "\n",
       "    .dataframe tbody tr th {\n",
       "        vertical-align: top;\n",
       "    }\n",
       "\n",
       "    .dataframe thead th {\n",
       "        text-align: right;\n",
       "    }\n",
       "</style>\n",
       "<table border=\"1\" class=\"dataframe\">\n",
       "  <thead>\n",
       "    <tr style=\"text-align: right;\">\n",
       "      <th></th>\n",
       "      <th>Unnamed: 0</th>\n",
       "      <th>SeriousDlqin2yrs</th>\n",
       "      <th>RevolvingUtilizationOfUnsecuredLines</th>\n",
       "      <th>age</th>\n",
       "      <th>NumberOfTime30-59DaysPastDueNotWorse</th>\n",
       "      <th>DebtRatio</th>\n",
       "      <th>MonthlyIncome</th>\n",
       "      <th>NumberOfOpenCreditLinesAndLoans</th>\n",
       "      <th>NumberOfTimes90DaysLate</th>\n",
       "      <th>NumberRealEstateLoansOrLines</th>\n",
       "      <th>NumberOfTime60-89DaysPastDueNotWorse</th>\n",
       "      <th>NumberOfDependents</th>\n",
       "    </tr>\n",
       "  </thead>\n",
       "  <tbody>\n",
       "    <tr>\n",
       "      <th>count</th>\n",
       "      <td>150000.000000</td>\n",
       "      <td>150000.000000</td>\n",
       "      <td>150000.000000</td>\n",
       "      <td>150000.000000</td>\n",
       "      <td>150000.000000</td>\n",
       "      <td>150000.000000</td>\n",
       "      <td>1.202690e+05</td>\n",
       "      <td>150000.000000</td>\n",
       "      <td>150000.000000</td>\n",
       "      <td>150000.000000</td>\n",
       "      <td>150000.000000</td>\n",
       "      <td>146076.000000</td>\n",
       "    </tr>\n",
       "    <tr>\n",
       "      <th>mean</th>\n",
       "      <td>75000.500000</td>\n",
       "      <td>0.066840</td>\n",
       "      <td>6.048438</td>\n",
       "      <td>52.295207</td>\n",
       "      <td>0.421033</td>\n",
       "      <td>353.005076</td>\n",
       "      <td>6.670221e+03</td>\n",
       "      <td>8.452760</td>\n",
       "      <td>0.265973</td>\n",
       "      <td>1.018240</td>\n",
       "      <td>0.240387</td>\n",
       "      <td>0.757222</td>\n",
       "    </tr>\n",
       "    <tr>\n",
       "      <th>std</th>\n",
       "      <td>43301.414527</td>\n",
       "      <td>0.249746</td>\n",
       "      <td>249.755371</td>\n",
       "      <td>14.771866</td>\n",
       "      <td>4.192781</td>\n",
       "      <td>2037.818523</td>\n",
       "      <td>1.438467e+04</td>\n",
       "      <td>5.145951</td>\n",
       "      <td>4.169304</td>\n",
       "      <td>1.129771</td>\n",
       "      <td>4.155179</td>\n",
       "      <td>1.115086</td>\n",
       "    </tr>\n",
       "    <tr>\n",
       "      <th>min</th>\n",
       "      <td>1.000000</td>\n",
       "      <td>0.000000</td>\n",
       "      <td>0.000000</td>\n",
       "      <td>0.000000</td>\n",
       "      <td>0.000000</td>\n",
       "      <td>0.000000</td>\n",
       "      <td>0.000000e+00</td>\n",
       "      <td>0.000000</td>\n",
       "      <td>0.000000</td>\n",
       "      <td>0.000000</td>\n",
       "      <td>0.000000</td>\n",
       "      <td>0.000000</td>\n",
       "    </tr>\n",
       "    <tr>\n",
       "      <th>25%</th>\n",
       "      <td>37500.750000</td>\n",
       "      <td>0.000000</td>\n",
       "      <td>0.029867</td>\n",
       "      <td>41.000000</td>\n",
       "      <td>0.000000</td>\n",
       "      <td>0.175074</td>\n",
       "      <td>3.400000e+03</td>\n",
       "      <td>5.000000</td>\n",
       "      <td>0.000000</td>\n",
       "      <td>0.000000</td>\n",
       "      <td>0.000000</td>\n",
       "      <td>0.000000</td>\n",
       "    </tr>\n",
       "    <tr>\n",
       "      <th>50%</th>\n",
       "      <td>75000.500000</td>\n",
       "      <td>0.000000</td>\n",
       "      <td>0.154181</td>\n",
       "      <td>52.000000</td>\n",
       "      <td>0.000000</td>\n",
       "      <td>0.366508</td>\n",
       "      <td>5.400000e+03</td>\n",
       "      <td>8.000000</td>\n",
       "      <td>0.000000</td>\n",
       "      <td>1.000000</td>\n",
       "      <td>0.000000</td>\n",
       "      <td>0.000000</td>\n",
       "    </tr>\n",
       "    <tr>\n",
       "      <th>75%</th>\n",
       "      <td>112500.250000</td>\n",
       "      <td>0.000000</td>\n",
       "      <td>0.559046</td>\n",
       "      <td>63.000000</td>\n",
       "      <td>0.000000</td>\n",
       "      <td>0.868254</td>\n",
       "      <td>8.249000e+03</td>\n",
       "      <td>11.000000</td>\n",
       "      <td>0.000000</td>\n",
       "      <td>2.000000</td>\n",
       "      <td>0.000000</td>\n",
       "      <td>1.000000</td>\n",
       "    </tr>\n",
       "    <tr>\n",
       "      <th>max</th>\n",
       "      <td>150000.000000</td>\n",
       "      <td>1.000000</td>\n",
       "      <td>50708.000000</td>\n",
       "      <td>109.000000</td>\n",
       "      <td>98.000000</td>\n",
       "      <td>329664.000000</td>\n",
       "      <td>3.008750e+06</td>\n",
       "      <td>58.000000</td>\n",
       "      <td>98.000000</td>\n",
       "      <td>54.000000</td>\n",
       "      <td>98.000000</td>\n",
       "      <td>20.000000</td>\n",
       "    </tr>\n",
       "  </tbody>\n",
       "</table>\n",
       "</div>"
      ],
      "text/plain": [
       "          Unnamed: 0  SeriousDlqin2yrs  RevolvingUtilizationOfUnsecuredLines  \\\n",
       "count  150000.000000     150000.000000                         150000.000000   \n",
       "mean    75000.500000          0.066840                              6.048438   \n",
       "std     43301.414527          0.249746                            249.755371   \n",
       "min         1.000000          0.000000                              0.000000   \n",
       "25%     37500.750000          0.000000                              0.029867   \n",
       "50%     75000.500000          0.000000                              0.154181   \n",
       "75%    112500.250000          0.000000                              0.559046   \n",
       "max    150000.000000          1.000000                          50708.000000   \n",
       "\n",
       "                 age  NumberOfTime30-59DaysPastDueNotWorse      DebtRatio  \\\n",
       "count  150000.000000                         150000.000000  150000.000000   \n",
       "mean       52.295207                              0.421033     353.005076   \n",
       "std        14.771866                              4.192781    2037.818523   \n",
       "min         0.000000                              0.000000       0.000000   \n",
       "25%        41.000000                              0.000000       0.175074   \n",
       "50%        52.000000                              0.000000       0.366508   \n",
       "75%        63.000000                              0.000000       0.868254   \n",
       "max       109.000000                             98.000000  329664.000000   \n",
       "\n",
       "       MonthlyIncome  NumberOfOpenCreditLinesAndLoans  \\\n",
       "count   1.202690e+05                    150000.000000   \n",
       "mean    6.670221e+03                         8.452760   \n",
       "std     1.438467e+04                         5.145951   \n",
       "min     0.000000e+00                         0.000000   \n",
       "25%     3.400000e+03                         5.000000   \n",
       "50%     5.400000e+03                         8.000000   \n",
       "75%     8.249000e+03                        11.000000   \n",
       "max     3.008750e+06                        58.000000   \n",
       "\n",
       "       NumberOfTimes90DaysLate  NumberRealEstateLoansOrLines  \\\n",
       "count            150000.000000                 150000.000000   \n",
       "mean                  0.265973                      1.018240   \n",
       "std                   4.169304                      1.129771   \n",
       "min                   0.000000                      0.000000   \n",
       "25%                   0.000000                      0.000000   \n",
       "50%                   0.000000                      1.000000   \n",
       "75%                   0.000000                      2.000000   \n",
       "max                  98.000000                     54.000000   \n",
       "\n",
       "       NumberOfTime60-89DaysPastDueNotWorse  NumberOfDependents  \n",
       "count                         150000.000000       146076.000000  \n",
       "mean                               0.240387            0.757222  \n",
       "std                                4.155179            1.115086  \n",
       "min                                0.000000            0.000000  \n",
       "25%                                0.000000            0.000000  \n",
       "50%                                0.000000            0.000000  \n",
       "75%                                0.000000            1.000000  \n",
       "max                               98.000000           20.000000  "
      ]
     },
     "execution_count": 3,
     "metadata": {},
     "output_type": "execute_result"
    }
   ],
   "source": [
    "data.describe()"
   ]
  },
  {
   "cell_type": "code",
   "execution_count": 4,
   "id": "79e77f91",
   "metadata": {},
   "outputs": [
    {
     "name": "stdout",
     "output_type": "stream",
     "text": [
      "(150000, 12)\n",
      "<class 'pandas.core.frame.DataFrame'>\n",
      "RangeIndex: 150000 entries, 0 to 149999\n",
      "Data columns (total 12 columns):\n",
      " #   Column                                Non-Null Count   Dtype  \n",
      "---  ------                                --------------   -----  \n",
      " 0   Unnamed: 0                            150000 non-null  int64  \n",
      " 1   SeriousDlqin2yrs                      150000 non-null  int64  \n",
      " 2   RevolvingUtilizationOfUnsecuredLines  150000 non-null  float64\n",
      " 3   age                                   150000 non-null  int64  \n",
      " 4   NumberOfTime30-59DaysPastDueNotWorse  150000 non-null  int64  \n",
      " 5   DebtRatio                             150000 non-null  float64\n",
      " 6   MonthlyIncome                         120269 non-null  float64\n",
      " 7   NumberOfOpenCreditLinesAndLoans       150000 non-null  int64  \n",
      " 8   NumberOfTimes90DaysLate               150000 non-null  int64  \n",
      " 9   NumberRealEstateLoansOrLines          150000 non-null  int64  \n",
      " 10  NumberOfTime60-89DaysPastDueNotWorse  150000 non-null  int64  \n",
      " 11  NumberOfDependents                    146076 non-null  float64\n",
      "dtypes: float64(4), int64(8)\n",
      "memory usage: 13.7 MB\n",
      "None\n"
     ]
    }
   ],
   "source": [
    "print(data.shape)\n",
    "print(data.info())"
   ]
  },
  {
   "cell_type": "code",
   "execution_count": 5,
   "id": "87376f3d",
   "metadata": {},
   "outputs": [
    {
     "data": {
      "text/html": [
       "<div>\n",
       "<style scoped>\n",
       "    .dataframe tbody tr th:only-of-type {\n",
       "        vertical-align: middle;\n",
       "    }\n",
       "\n",
       "    .dataframe tbody tr th {\n",
       "        vertical-align: top;\n",
       "    }\n",
       "\n",
       "    .dataframe thead th {\n",
       "        text-align: right;\n",
       "    }\n",
       "</style>\n",
       "<table border=\"1\" class=\"dataframe\">\n",
       "  <thead>\n",
       "    <tr style=\"text-align: right;\">\n",
       "      <th></th>\n",
       "      <th>Unnamed: 0</th>\n",
       "      <th>SeriousDlqin2yrs</th>\n",
       "      <th>RevolvingUtilizationOfUnsecuredLines</th>\n",
       "      <th>age</th>\n",
       "      <th>NumberOfTime30-59DaysPastDueNotWorse</th>\n",
       "      <th>DebtRatio</th>\n",
       "      <th>MonthlyIncome</th>\n",
       "      <th>NumberOfOpenCreditLinesAndLoans</th>\n",
       "      <th>NumberOfTimes90DaysLate</th>\n",
       "      <th>NumberRealEstateLoansOrLines</th>\n",
       "      <th>NumberOfTime60-89DaysPastDueNotWorse</th>\n",
       "      <th>NumberOfDependents</th>\n",
       "    </tr>\n",
       "  </thead>\n",
       "  <tbody>\n",
       "    <tr>\n",
       "      <th>0</th>\n",
       "      <td>0.000000</td>\n",
       "      <td>1.0</td>\n",
       "      <td>0.000015</td>\n",
       "      <td>0.412844</td>\n",
       "      <td>0.020408</td>\n",
       "      <td>2.435759e-06</td>\n",
       "      <td>0.003031</td>\n",
       "      <td>0.224138</td>\n",
       "      <td>0.000000</td>\n",
       "      <td>0.111111</td>\n",
       "      <td>0.0</td>\n",
       "      <td>0.10</td>\n",
       "    </tr>\n",
       "    <tr>\n",
       "      <th>1</th>\n",
       "      <td>0.000007</td>\n",
       "      <td>0.0</td>\n",
       "      <td>0.000019</td>\n",
       "      <td>0.366972</td>\n",
       "      <td>0.000000</td>\n",
       "      <td>3.696982e-07</td>\n",
       "      <td>0.000864</td>\n",
       "      <td>0.068966</td>\n",
       "      <td>0.000000</td>\n",
       "      <td>0.000000</td>\n",
       "      <td>0.0</td>\n",
       "      <td>0.05</td>\n",
       "    </tr>\n",
       "    <tr>\n",
       "      <th>2</th>\n",
       "      <td>0.000013</td>\n",
       "      <td>0.0</td>\n",
       "      <td>0.000013</td>\n",
       "      <td>0.348624</td>\n",
       "      <td>0.010204</td>\n",
       "      <td>2.581822e-07</td>\n",
       "      <td>0.001011</td>\n",
       "      <td>0.034483</td>\n",
       "      <td>0.010204</td>\n",
       "      <td>0.000000</td>\n",
       "      <td>0.0</td>\n",
       "      <td>0.00</td>\n",
       "    </tr>\n",
       "    <tr>\n",
       "      <th>3</th>\n",
       "      <td>0.000020</td>\n",
       "      <td>0.0</td>\n",
       "      <td>0.000005</td>\n",
       "      <td>0.275229</td>\n",
       "      <td>0.000000</td>\n",
       "      <td>1.093528e-07</td>\n",
       "      <td>0.001097</td>\n",
       "      <td>0.086207</td>\n",
       "      <td>0.000000</td>\n",
       "      <td>0.000000</td>\n",
       "      <td>0.0</td>\n",
       "      <td>0.00</td>\n",
       "    </tr>\n",
       "    <tr>\n",
       "      <th>4</th>\n",
       "      <td>0.000027</td>\n",
       "      <td>0.0</td>\n",
       "      <td>0.000018</td>\n",
       "      <td>0.449541</td>\n",
       "      <td>0.010204</td>\n",
       "      <td>7.560939e-08</td>\n",
       "      <td>0.021134</td>\n",
       "      <td>0.120690</td>\n",
       "      <td>0.000000</td>\n",
       "      <td>0.018519</td>\n",
       "      <td>0.0</td>\n",
       "      <td>0.00</td>\n",
       "    </tr>\n",
       "  </tbody>\n",
       "</table>\n",
       "</div>"
      ],
      "text/plain": [
       "   Unnamed: 0  SeriousDlqin2yrs  RevolvingUtilizationOfUnsecuredLines  \\\n",
       "0    0.000000               1.0                              0.000015   \n",
       "1    0.000007               0.0                              0.000019   \n",
       "2    0.000013               0.0                              0.000013   \n",
       "3    0.000020               0.0                              0.000005   \n",
       "4    0.000027               0.0                              0.000018   \n",
       "\n",
       "        age  NumberOfTime30-59DaysPastDueNotWorse     DebtRatio  \\\n",
       "0  0.412844                              0.020408  2.435759e-06   \n",
       "1  0.366972                              0.000000  3.696982e-07   \n",
       "2  0.348624                              0.010204  2.581822e-07   \n",
       "3  0.275229                              0.000000  1.093528e-07   \n",
       "4  0.449541                              0.010204  7.560939e-08   \n",
       "\n",
       "   MonthlyIncome  NumberOfOpenCreditLinesAndLoans  NumberOfTimes90DaysLate  \\\n",
       "0       0.003031                         0.224138                 0.000000   \n",
       "1       0.000864                         0.068966                 0.000000   \n",
       "2       0.001011                         0.034483                 0.010204   \n",
       "3       0.001097                         0.086207                 0.000000   \n",
       "4       0.021134                         0.120690                 0.000000   \n",
       "\n",
       "   NumberRealEstateLoansOrLines  NumberOfTime60-89DaysPastDueNotWorse  \\\n",
       "0                      0.111111                                   0.0   \n",
       "1                      0.000000                                   0.0   \n",
       "2                      0.000000                                   0.0   \n",
       "3                      0.000000                                   0.0   \n",
       "4                      0.018519                                   0.0   \n",
       "\n",
       "   NumberOfDependents  \n",
       "0                0.10  \n",
       "1                0.05  \n",
       "2                0.00  \n",
       "3                0.00  \n",
       "4                0.00  "
      ]
     },
     "execution_count": 5,
     "metadata": {},
     "output_type": "execute_result"
    }
   ],
   "source": [
    "import pandas as pd\n",
    "import os\n",
    "from sklearn.preprocessing import MinMaxScaler\n",
    "data = pd.read_csv(\"ScoringTraining.csv\") \n",
    "scaler = MinMaxScaler()\n",
    " \n",
    "df=pd.DataFrame(scaler.fit_transform(data),\n",
    "            columns=data.columns, index=data.index) \n",
    "df.head()"
   ]
  },
  {
   "cell_type": "code",
   "execution_count": 6,
   "id": "7ef80df1",
   "metadata": {},
   "outputs": [
    {
     "data": {
      "text/plain": [
       "0.0    139974\n",
       "1.0     10026\n",
       "Name: SeriousDlqin2yrs, dtype: int64"
      ]
     },
     "execution_count": 6,
     "metadata": {},
     "output_type": "execute_result"
    }
   ],
   "source": [
    "df['SeriousDlqin2yrs'].value_counts()\n"
   ]
  },
  {
   "cell_type": "code",
   "execution_count": 7,
   "id": "cc930e02",
   "metadata": {},
   "outputs": [
    {
     "data": {
      "image/png": "[encoded data removed]",
      "text/plain": [
       "<Figure size 720x504 with 1 Axes>"
      ]
     },
     "metadata": {},
     "output_type": "display_data"
    }
   ],
   "source": [
    "import matplotlib.pyplot as plt\n",
    "x=['les personnes sans problemes financieres','pourcentage de defauts']\n",
    "data1=df['SeriousDlqin2yrs'].value_counts()\n",
    "fig = plt.figure(figsize =(10, 7))\n",
    "plt.pie(data1, labels = x , colors=['g' , 'r'] , autopct='%1.1f%%')\n",
    "plt.show()"
   ]
  },
  {
   "cell_type": "code",
   "execution_count": 8,
   "id": "a9308349",
   "metadata": {},
   "outputs": [
    {
     "data": {
      "text/plain": [
       "Unnamed: 0                                  0\n",
       "SeriousDlqin2yrs                            0\n",
       "RevolvingUtilizationOfUnsecuredLines        0\n",
       "age                                         0\n",
       "NumberOfTime30-59DaysPastDueNotWorse        0\n",
       "DebtRatio                                   0\n",
       "MonthlyIncome                           29731\n",
       "NumberOfOpenCreditLinesAndLoans             0\n",
       "NumberOfTimes90DaysLate                     0\n",
       "NumberRealEstateLoansOrLines                0\n",
       "NumberOfTime60-89DaysPastDueNotWorse        0\n",
       "NumberOfDependents                       3924\n",
       "dtype: int64"
      ]
     },
     "execution_count": 8,
     "metadata": {},
     "output_type": "execute_result"
    }
   ],
   "source": [
    "#number of missing data\n",
    "missing_data = df.isnull().sum()\n",
    "missing_data "
   ]
  },
  {
   "cell_type": "code",
   "execution_count": 9,
   "id": "a503e299",
   "metadata": {},
   "outputs": [
    {
     "name": "stdout",
     "output_type": "stream",
     "text": [
      "33655\n"
     ]
    }
   ],
   "source": [
    "print(df.isnull().sum().sum())"
   ]
  },
  {
   "cell_type": "code",
   "execution_count": 10,
   "id": "50056d17",
   "metadata": {},
   "outputs": [
    {
     "name": "stdout",
     "output_type": "stream",
     "text": [
      "Requirement already satisfied: missingno in c:\\users\\hp\\anaconda3\\lib\\site-packages (0.5.1)\n",
      "Requirement already satisfied: scipy in c:\\users\\hp\\anaconda3\\lib\\site-packages (from missingno) (1.7.1)\n",
      "Requirement already satisfied: numpy in c:\\users\\hp\\anaconda3\\lib\\site-packages (from missingno) (1.20.3)\n",
      "Requirement already satisfied: seaborn in c:\\users\\hp\\anaconda3\\lib\\site-packages (from missingno) (0.11.2)\n",
      "Requirement already satisfied: matplotlib in c:\\users\\hp\\anaconda3\\lib\\site-packages (from missingno) (3.4.3)\n",
      "Requirement already satisfied: pyparsing>=2.2.1 in c:\\users\\hp\\anaconda3\\lib\\site-packages (from matplotlib->missingno) (3.0.4)\n",
      "Requirement already satisfied: pillow>=6.2.0 in c:\\users\\hp\\anaconda3\\lib\\site-packages (from matplotlib->missingno) (8.4.0)\n",
      "Requirement already satisfied: cycler>=0.10 in c:\\users\\hp\\anaconda3\\lib\\site-packages (from matplotlib->missingno) (0.10.0)\n",
      "Requirement already satisfied: kiwisolver>=1.0.1 in c:\\users\\hp\\anaconda3\\lib\\site-packages (from matplotlib->missingno) (1.3.1)\n",
      "Requirement already satisfied: python-dateutil>=2.7 in c:\\users\\hp\\anaconda3\\lib\\site-packages (from matplotlib->missingno) (2.8.2)\n",
      "Requirement already satisfied: six in c:\\users\\hp\\anaconda3\\lib\\site-packages (from cycler>=0.10->matplotlib->missingno) (1.16.0)\n",
      "Requirement already satisfied: pandas>=0.23 in c:\\users\\hp\\anaconda3\\lib\\site-packages (from seaborn->missingno) (1.3.4)\n",
      "Requirement already satisfied: pytz>=2017.3 in c:\\users\\hp\\anaconda3\\lib\\site-packages (from pandas>=0.23->seaborn->missingno) (2021.3)\n"
     ]
    },
    {
     "data": {
      "text/plain": [
       "<AxesSubplot:>"
      ]
     },
     "execution_count": 10,
     "metadata": {},
     "output_type": "execute_result"
    },
    {
     "data": {
      "image/png": "[encoded data removed]",
      "text/plain": [
       "<Figure size 1800x720 with 2 Axes>"
      ]
     },
     "metadata": {
      "needs_background": "light"
     },
     "output_type": "display_data"
    }
   ],
   "source": [
    "! pip install missingno\n",
    "import pandas as pd\n",
    "import missingno as msno\n",
    "msno.matrix(df)"
   ]
  },
  {
   "cell_type": "code",
   "execution_count": 11,
   "id": "1b2a17b1",
   "metadata": {},
   "outputs": [],
   "source": [
    "df1=df.fillna(df.median())"
   ]
  },
  {
   "cell_type": "code",
   "execution_count": 12,
   "id": "9b126e58",
   "metadata": {},
   "outputs": [
    {
     "data": {
      "text/plain": [
       "<AxesSubplot:>"
      ]
     },
     "execution_count": 12,
     "metadata": {},
     "output_type": "execute_result"
    },
    {
     "data": {
      "image/png": "[encoded data removed]",
      "text/plain": [
       "<Figure size 1800x720 with 2 Axes>"
      ]
     },
     "metadata": {
      "needs_background": "light"
     },
     "output_type": "display_data"
    }
   ],
   "source": [
    "msno.matrix(df1)"
   ]
  },
  {
   "cell_type": "code",
   "execution_count": 13,
   "id": "48dd3e11",
   "metadata": {
    "scrolled": true
   },
   "outputs": [
    {
     "data": {
      "image/png": "[encoded data removed]",
      "text/plain": [
       "<Figure size 720x504 with 1 Axes>"
      ]
     },
     "metadata": {
      "needs_background": "light"
     },
     "output_type": "display_data"
    }
   ],
   "source": [
    "fig = plt.figure(figsize =(10, 7))\n",
    "plt.boxplot(df1)\n",
    "plt.show()\n"
   ]
  },
  {
   "cell_type": "code",
   "execution_count": 14,
   "id": "8ec90328",
   "metadata": {},
   "outputs": [],
   "source": [
    "## finding outliers\n",
    "q1=df1.quantile(0.25)\n",
    "q3=df1.quantile(0.75)\n",
    "IQR=q3-q1\n",
    "outliers=df1[((df1<q1-1.5*IQR) | (df1>q3 +1.5*IQR))]"
   ]
  },
  {
   "cell_type": "code",
   "execution_count": 15,
   "id": "9b34027e",
   "metadata": {},
   "outputs": [
    {
     "data": {
      "text/html": [
       "<div>\n",
       "<style scoped>\n",
       "    .dataframe tbody tr th:only-of-type {\n",
       "        vertical-align: middle;\n",
       "    }\n",
       "\n",
       "    .dataframe tbody tr th {\n",
       "        vertical-align: top;\n",
       "    }\n",
       "\n",
       "    .dataframe thead th {\n",
       "        text-align: right;\n",
       "    }\n",
       "</style>\n",
       "<table border=\"1\" class=\"dataframe\">\n",
       "  <thead>\n",
       "    <tr style=\"text-align: right;\">\n",
       "      <th></th>\n",
       "      <th>Unnamed: 0</th>\n",
       "      <th>SeriousDlqin2yrs</th>\n",
       "      <th>RevolvingUtilizationOfUnsecuredLines</th>\n",
       "      <th>age</th>\n",
       "      <th>NumberOfTime30-59DaysPastDueNotWorse</th>\n",
       "      <th>DebtRatio</th>\n",
       "      <th>MonthlyIncome</th>\n",
       "      <th>NumberOfOpenCreditLinesAndLoans</th>\n",
       "      <th>NumberOfTimes90DaysLate</th>\n",
       "      <th>NumberRealEstateLoansOrLines</th>\n",
       "      <th>NumberOfTime60-89DaysPastDueNotWorse</th>\n",
       "      <th>NumberOfDependents</th>\n",
       "    </tr>\n",
       "  </thead>\n",
       "  <tbody>\n",
       "    <tr>\n",
       "      <th>0</th>\n",
       "      <td>NaN</td>\n",
       "      <td>1.0</td>\n",
       "      <td>NaN</td>\n",
       "      <td>NaN</td>\n",
       "      <td>0.020408</td>\n",
       "      <td>NaN</td>\n",
       "      <td>NaN</td>\n",
       "      <td>NaN</td>\n",
       "      <td>NaN</td>\n",
       "      <td>0.111111</td>\n",
       "      <td>NaN</td>\n",
       "      <td>NaN</td>\n",
       "    </tr>\n",
       "    <tr>\n",
       "      <th>1</th>\n",
       "      <td>NaN</td>\n",
       "      <td>NaN</td>\n",
       "      <td>NaN</td>\n",
       "      <td>NaN</td>\n",
       "      <td>NaN</td>\n",
       "      <td>NaN</td>\n",
       "      <td>NaN</td>\n",
       "      <td>NaN</td>\n",
       "      <td>NaN</td>\n",
       "      <td>NaN</td>\n",
       "      <td>NaN</td>\n",
       "      <td>NaN</td>\n",
       "    </tr>\n",
       "    <tr>\n",
       "      <th>2</th>\n",
       "      <td>NaN</td>\n",
       "      <td>NaN</td>\n",
       "      <td>NaN</td>\n",
       "      <td>NaN</td>\n",
       "      <td>0.010204</td>\n",
       "      <td>NaN</td>\n",
       "      <td>NaN</td>\n",
       "      <td>NaN</td>\n",
       "      <td>0.010204</td>\n",
       "      <td>NaN</td>\n",
       "      <td>NaN</td>\n",
       "      <td>NaN</td>\n",
       "    </tr>\n",
       "    <tr>\n",
       "      <th>3</th>\n",
       "      <td>NaN</td>\n",
       "      <td>NaN</td>\n",
       "      <td>NaN</td>\n",
       "      <td>NaN</td>\n",
       "      <td>NaN</td>\n",
       "      <td>NaN</td>\n",
       "      <td>NaN</td>\n",
       "      <td>NaN</td>\n",
       "      <td>NaN</td>\n",
       "      <td>NaN</td>\n",
       "      <td>NaN</td>\n",
       "      <td>NaN</td>\n",
       "    </tr>\n",
       "    <tr>\n",
       "      <th>4</th>\n",
       "      <td>NaN</td>\n",
       "      <td>NaN</td>\n",
       "      <td>NaN</td>\n",
       "      <td>NaN</td>\n",
       "      <td>0.010204</td>\n",
       "      <td>NaN</td>\n",
       "      <td>0.021134</td>\n",
       "      <td>NaN</td>\n",
       "      <td>NaN</td>\n",
       "      <td>NaN</td>\n",
       "      <td>NaN</td>\n",
       "      <td>NaN</td>\n",
       "    </tr>\n",
       "  </tbody>\n",
       "</table>\n",
       "</div>"
      ],
      "text/plain": [
       "   Unnamed: 0  SeriousDlqin2yrs  RevolvingUtilizationOfUnsecuredLines  age  \\\n",
       "0         NaN               1.0                                   NaN  NaN   \n",
       "1         NaN               NaN                                   NaN  NaN   \n",
       "2         NaN               NaN                                   NaN  NaN   \n",
       "3         NaN               NaN                                   NaN  NaN   \n",
       "4         NaN               NaN                                   NaN  NaN   \n",
       "\n",
       "   NumberOfTime30-59DaysPastDueNotWorse  DebtRatio  MonthlyIncome  \\\n",
       "0                              0.020408        NaN            NaN   \n",
       "1                                   NaN        NaN            NaN   \n",
       "2                              0.010204        NaN            NaN   \n",
       "3                                   NaN        NaN            NaN   \n",
       "4                              0.010204        NaN       0.021134   \n",
       "\n",
       "   NumberOfOpenCreditLinesAndLoans  NumberOfTimes90DaysLate  \\\n",
       "0                              NaN                      NaN   \n",
       "1                              NaN                      NaN   \n",
       "2                              NaN                 0.010204   \n",
       "3                              NaN                      NaN   \n",
       "4                              NaN                      NaN   \n",
       "\n",
       "   NumberRealEstateLoansOrLines  NumberOfTime60-89DaysPastDueNotWorse  \\\n",
       "0                      0.111111                                   NaN   \n",
       "1                           NaN                                   NaN   \n",
       "2                           NaN                                   NaN   \n",
       "3                           NaN                                   NaN   \n",
       "4                           NaN                                   NaN   \n",
       "\n",
       "   NumberOfDependents  \n",
       "0                 NaN  \n",
       "1                 NaN  \n",
       "2                 NaN  \n",
       "3                 NaN  \n",
       "4                 NaN  "
      ]
     },
     "execution_count": 15,
     "metadata": {},
     "output_type": "execute_result"
    }
   ],
   "source": [
    "outliers.head()"
   ]
  },
  {
   "cell_type": "code",
   "execution_count": 16,
   "id": "70cce7f2",
   "metadata": {},
   "outputs": [],
   "source": [
    "import numpy as np\n",
    "import scipy.stats as stats\n",
    "z1 = np.abs(stats.zscore(df1[\"RevolvingUtilizationOfUnsecuredLines\"]))\n",
    "z2 = np.abs(stats.zscore(df1[\"age\"]))\n",
    "z3 = np.abs(stats.zscore(df1[\"DebtRatio\"]))\n",
    "z4 = np.abs(stats.zscore(df1[\"MonthlyIncome\"]))\n",
    "z5 = np.abs(stats.zscore(df1[\"NumberOfOpenCreditLinesAndLoans\"]))\n",
    "z6 = np.abs(stats.zscore(df1[\"NumberRealEstateLoansOrLines\"]))\n",
    "z7 = np.abs(stats.zscore(df1[\"NumberOfDependents\"]))\n"
   ]
  },
  {
   "cell_type": "code",
   "execution_count": 17,
   "id": "6bc93028",
   "metadata": {},
   "outputs": [],
   "source": [
    "data_clean = df1[(z1<3)&(z2<3)&(z3<3)&(z4<3)&(z5<3)&(z6<3)&(z7<3)]"
   ]
  },
  {
   "cell_type": "code",
   "execution_count": 18,
   "id": "8239b328",
   "metadata": {},
   "outputs": [
    {
     "data": {
      "image/png": "[encoded data removed]",
      "text/plain": [
       "<Figure size 720x504 with 1 Axes>"
      ]
     },
     "metadata": {
      "needs_background": "light"
     },
     "output_type": "display_data"
    }
   ],
   "source": [
    "fig = plt.figure(figsize =(10, 7))\n",
    "plt.boxplot(data_clean)\n",
    "plt.show()"
   ]
  },
  {
   "cell_type": "code",
   "execution_count": 19,
   "id": "3082ce89",
   "metadata": {},
   "outputs": [
    {
     "data": {
      "text/html": [
       "<div>\n",
       "<style scoped>\n",
       "    .dataframe tbody tr th:only-of-type {\n",
       "        vertical-align: middle;\n",
       "    }\n",
       "\n",
       "    .dataframe tbody tr th {\n",
       "        vertical-align: top;\n",
       "    }\n",
       "\n",
       "    .dataframe thead th {\n",
       "        text-align: right;\n",
       "    }\n",
       "</style>\n",
       "<table border=\"1\" class=\"dataframe\">\n",
       "  <thead>\n",
       "    <tr style=\"text-align: right;\">\n",
       "      <th></th>\n",
       "      <th>Unnamed: 0</th>\n",
       "      <th>SeriousDlqin2yrs</th>\n",
       "      <th>RevolvingUtilizationOfUnsecuredLines</th>\n",
       "      <th>age</th>\n",
       "      <th>NumberOfTime30-59DaysPastDueNotWorse</th>\n",
       "      <th>DebtRatio</th>\n",
       "      <th>MonthlyIncome</th>\n",
       "      <th>NumberOfOpenCreditLinesAndLoans</th>\n",
       "      <th>NumberOfTimes90DaysLate</th>\n",
       "      <th>NumberRealEstateLoansOrLines</th>\n",
       "      <th>NumberOfTime60-89DaysPastDueNotWorse</th>\n",
       "      <th>NumberOfDependents</th>\n",
       "    </tr>\n",
       "  </thead>\n",
       "  <tbody>\n",
       "    <tr>\n",
       "      <th>1</th>\n",
       "      <td>0.000007</td>\n",
       "      <td>0.0</td>\n",
       "      <td>0.000019</td>\n",
       "      <td>0.366972</td>\n",
       "      <td>0.000000</td>\n",
       "      <td>3.696982e-07</td>\n",
       "      <td>0.000864</td>\n",
       "      <td>0.068966</td>\n",
       "      <td>0.000000</td>\n",
       "      <td>0.000000</td>\n",
       "      <td>0.0</td>\n",
       "      <td>0.05</td>\n",
       "    </tr>\n",
       "    <tr>\n",
       "      <th>2</th>\n",
       "      <td>0.000013</td>\n",
       "      <td>0.0</td>\n",
       "      <td>0.000013</td>\n",
       "      <td>0.348624</td>\n",
       "      <td>0.010204</td>\n",
       "      <td>2.581822e-07</td>\n",
       "      <td>0.001011</td>\n",
       "      <td>0.034483</td>\n",
       "      <td>0.010204</td>\n",
       "      <td>0.000000</td>\n",
       "      <td>0.0</td>\n",
       "      <td>0.00</td>\n",
       "    </tr>\n",
       "    <tr>\n",
       "      <th>3</th>\n",
       "      <td>0.000020</td>\n",
       "      <td>0.0</td>\n",
       "      <td>0.000005</td>\n",
       "      <td>0.275229</td>\n",
       "      <td>0.000000</td>\n",
       "      <td>1.093528e-07</td>\n",
       "      <td>0.001097</td>\n",
       "      <td>0.086207</td>\n",
       "      <td>0.000000</td>\n",
       "      <td>0.000000</td>\n",
       "      <td>0.0</td>\n",
       "      <td>0.00</td>\n",
       "    </tr>\n",
       "    <tr>\n",
       "      <th>5</th>\n",
       "      <td>0.000033</td>\n",
       "      <td>0.0</td>\n",
       "      <td>0.000004</td>\n",
       "      <td>0.678899</td>\n",
       "      <td>0.000000</td>\n",
       "      <td>1.139363e-06</td>\n",
       "      <td>0.001163</td>\n",
       "      <td>0.051724</td>\n",
       "      <td>0.000000</td>\n",
       "      <td>0.018519</td>\n",
       "      <td>0.0</td>\n",
       "      <td>0.05</td>\n",
       "    </tr>\n",
       "    <tr>\n",
       "      <th>6</th>\n",
       "      <td>0.000040</td>\n",
       "      <td>0.0</td>\n",
       "      <td>0.000006</td>\n",
       "      <td>0.522936</td>\n",
       "      <td>0.000000</td>\n",
       "      <td>1.732067e-02</td>\n",
       "      <td>0.001795</td>\n",
       "      <td>0.137931</td>\n",
       "      <td>0.000000</td>\n",
       "      <td>0.055556</td>\n",
       "      <td>0.0</td>\n",
       "      <td>0.00</td>\n",
       "    </tr>\n",
       "  </tbody>\n",
       "</table>\n",
       "</div>"
      ],
      "text/plain": [
       "   Unnamed: 0  SeriousDlqin2yrs  RevolvingUtilizationOfUnsecuredLines  \\\n",
       "1    0.000007               0.0                              0.000019   \n",
       "2    0.000013               0.0                              0.000013   \n",
       "3    0.000020               0.0                              0.000005   \n",
       "5    0.000033               0.0                              0.000004   \n",
       "6    0.000040               0.0                              0.000006   \n",
       "\n",
       "        age  NumberOfTime30-59DaysPastDueNotWorse     DebtRatio  \\\n",
       "1  0.366972                              0.000000  3.696982e-07   \n",
       "2  0.348624                              0.010204  2.581822e-07   \n",
       "3  0.275229                              0.000000  1.093528e-07   \n",
       "5  0.678899                              0.000000  1.139363e-06   \n",
       "6  0.522936                              0.000000  1.732067e-02   \n",
       "\n",
       "   MonthlyIncome  NumberOfOpenCreditLinesAndLoans  NumberOfTimes90DaysLate  \\\n",
       "1       0.000864                         0.068966                 0.000000   \n",
       "2       0.001011                         0.034483                 0.010204   \n",
       "3       0.001097                         0.086207                 0.000000   \n",
       "5       0.001163                         0.051724                 0.000000   \n",
       "6       0.001795                         0.137931                 0.000000   \n",
       "\n",
       "   NumberRealEstateLoansOrLines  NumberOfTime60-89DaysPastDueNotWorse  \\\n",
       "1                      0.000000                                   0.0   \n",
       "2                      0.000000                                   0.0   \n",
       "3                      0.000000                                   0.0   \n",
       "5                      0.018519                                   0.0   \n",
       "6                      0.055556                                   0.0   \n",
       "\n",
       "   NumberOfDependents  \n",
       "1                0.05  \n",
       "2                0.00  \n",
       "3                0.00  \n",
       "5                0.05  \n",
       "6                0.00  "
      ]
     },
     "execution_count": 19,
     "metadata": {},
     "output_type": "execute_result"
    }
   ],
   "source": [
    "data_clean.head()"
   ]
  },
  {
   "cell_type": "code",
   "execution_count": 20,
   "id": "055c37f3",
   "metadata": {},
   "outputs": [
    {
     "data": {
      "text/plain": [
       "0.0    135285\n",
       "1.0      9547\n",
       "Name: SeriousDlqin2yrs, dtype: int64"
      ]
     },
     "execution_count": 20,
     "metadata": {},
     "output_type": "execute_result"
    }
   ],
   "source": [
    "data_clean['SeriousDlqin2yrs'].value_counts()"
   ]
  },
  {
   "cell_type": "code",
   "execution_count": 21,
   "id": "216c0ea5",
   "metadata": {},
   "outputs": [
    {
     "name": "stdout",
     "output_type": "stream",
     "text": [
      "0.0    9547\n",
      "1.0    9547\n",
      "Name: SeriousDlqin2yrs, dtype: int64\n"
     ]
    }
   ],
   "source": [
    "from sklearn.utils import resample\n",
    "data_0 = data_clean[data_clean.SeriousDlqin2yrs==0]\n",
    "data_1 =data_clean[data_clean.SeriousDlqin2yrs==1]\n",
    "test_downsampling = resample(data_0, \n",
    "                                 replace=False,    \n",
    "                                 n_samples=len(data_1))\n",
    "df= pd.concat([test_downsampling, data_1])\n",
    "print(df[\"SeriousDlqin2yrs\"].value_counts())\n"
   ]
  },
  {
   "cell_type": "code",
   "execution_count": 22,
   "id": "350b9a25",
   "metadata": {},
   "outputs": [
    {
     "data": {
      "text/plain": [
       "Text(0.5, 1.0, 'RevolvingUtilizationOfUnsecuredLines')"
      ]
     },
     "execution_count": 22,
     "metadata": {},
     "output_type": "execute_result"
    },
    {
     "data": {
      "image/png": "[encoded data removed]",
      "text/plain": [
       "<Figure size 432x288 with 1 Axes>"
      ]
     },
     "metadata": {
      "needs_background": "light"
     },
     "output_type": "display_data"
    }
   ],
   "source": [
    "import seaborn as sns \n",
    "import pandas as pd\n",
    "import matplotlib.pyplot as plt\n",
    "\n",
    "# splitting dataframe by groups\n",
    "grouped = df.groupby(data_clean.SeriousDlqin2yrs)\n",
    "# grouping by particular dataframe column\n",
    "data_0 = grouped.get_group(0)\n",
    "data_1 = grouped.get_group(1)\n",
    "\n",
    "ax = plt.axes()\n",
    "boxplot = data_0.boxplot(column='RevolvingUtilizationOfUnsecuredLines',positions = [1], widths = 0.5, showfliers=False)\n",
    "boxplot = data_1.boxplot(column='RevolvingUtilizationOfUnsecuredLines',positions = [2], widths = 0.5, showfliers=False)\n",
    "ax.set_xticklabels(['0', '1'])\n",
    "plt.title('RevolvingUtilizationOfUnsecuredLines')\n"
   ]
  },
  {
   "cell_type": "code",
   "execution_count": 23,
   "id": "160af0ff",
   "metadata": {},
   "outputs": [
    {
     "data": {
      "text/plain": [
       "Text(0.5, 1.0, 'age')"
      ]
     },
     "execution_count": 23,
     "metadata": {},
     "output_type": "execute_result"
    },
    {
     "data": {
      "image/png": "[encoded data removed]",
      "text/plain": [
       "<Figure size 432x288 with 1 Axes>"
      ]
     },
     "metadata": {
      "needs_background": "light"
     },
     "output_type": "display_data"
    }
   ],
   "source": [
    "import seaborn as sns \n",
    "import pandas as pd\n",
    "import matplotlib.pyplot as plt\n",
    "\n",
    "groupe = df.groupby(data_clean.SeriousDlqin2yrs)\n",
    "data_0 = grouped.get_group(0)\n",
    "data_1 = grouped.get_group(1)\n",
    "\n",
    "ax = plt.axes()\n",
    "# first boxplot\n",
    "boxplot = data_0.boxplot(column='age',positions = [1], widths = 0.6, showfliers=False)\n",
    "# second boxplot\n",
    "boxplot = data_1.boxplot(column='age',positions = [2], widths = 0.6, showfliers=False)\n",
    "ax.set_xticklabels(['0', '1'])\n",
    "plt.title('age')"
   ]
  },
  {
   "cell_type": "code",
   "execution_count": 24,
   "id": "860618c2",
   "metadata": {},
   "outputs": [
    {
     "data": {
      "text/plain": [
       "Text(0.5, 1.0, 'NumberOfTime30-59DaysPastDueNotWorse')"
      ]
     },
     "execution_count": 24,
     "metadata": {},
     "output_type": "execute_result"
    },
    {
     "data": {
      "image/png": "[encoded data removed]",
      "text/plain": [
       "<Figure size 432x288 with 1 Axes>"
      ]
     },
     "metadata": {
      "needs_background": "light"
     },
     "output_type": "display_data"
    }
   ],
   "source": [
    "import seaborn as sns \n",
    "import pandas as pd\n",
    "import matplotlib.pyplot as plt\n",
    "\n",
    "# splitting dataframe by groups\n",
    "grouped = df.groupby(data_clean.SeriousDlqin2yrs)\n",
    "# grouping by particular dataframe column\n",
    "data_0 = grouped.get_group(0)\n",
    "data_1 = grouped.get_group(1)\n",
    "\n",
    "ax = plt.axes()\n",
    "# first boxplot\n",
    "boxplot = data_0.boxplot(column='NumberOfTime30-59DaysPastDueNotWorse',positions = [1], widths = 0.6, showfliers=False)\n",
    "# second boxplot\n",
    "boxplot = data_1.boxplot(column='NumberOfTime30-59DaysPastDueNotWorse',positions = [2], widths = 0.6, showfliers=False)\n",
    "ax.set_xticklabels(['0', '1'])\n",
    "plt.title('NumberOfTime30-59DaysPastDueNotWorse')"
   ]
  },
  {
   "cell_type": "code",
   "execution_count": 25,
   "id": "8b831901",
   "metadata": {},
   "outputs": [
    {
     "data": {
      "text/plain": [
       "Text(0.5, 1.0, 'DebtRatio')"
      ]
     },
     "execution_count": 25,
     "metadata": {},
     "output_type": "execute_result"
    },
    {
     "data": {
      "image/png": "[encoded data removed]",
      "text/plain": [
       "<Figure size 432x288 with 1 Axes>"
      ]
     },
     "metadata": {
      "needs_background": "light"
     },
     "output_type": "display_data"
    }
   ],
   "source": [
    "import seaborn as sns \n",
    "import pandas as pd\n",
    "import matplotlib.pyplot as plt\n",
    "\n",
    "# splitting dataframe by groups\n",
    "grouped = df.groupby(data_clean.SeriousDlqin2yrs)\n",
    "# grouping by particular dataframe column\n",
    "data_0 = grouped.get_group(0)\n",
    "data_1 = grouped.get_group(1)\n",
    "\n",
    "ax = plt.axes()\n",
    "# first boxplot\n",
    "boxplot = data_0.boxplot(column='DebtRatio',positions = [1], widths = 0.6, showfliers=False)\n",
    "# second boxplot\n",
    "boxplot = data_1.boxplot(column='DebtRatio',positions = [2], widths = 0.6, showfliers=False)\n",
    "ax.set_xticklabels(['0', '1'])\n",
    "plt.title('DebtRatio')"
   ]
  },
  {
   "cell_type": "code",
   "execution_count": 26,
   "id": "6faa98a0",
   "metadata": {},
   "outputs": [
    {
     "data": {
      "text/plain": [
       "Text(0.5, 1.0, 'MonthlyIncome')"
      ]
     },
     "execution_count": 26,
     "metadata": {},
     "output_type": "execute_result"
    },
    {
     "data": {
      "image/png": "[encoded data removed]",
      "text/plain": [
       "<Figure size 432x288 with 1 Axes>"
      ]
     },
     "metadata": {
      "needs_background": "light"
     },
     "output_type": "display_data"
    }
   ],
   "source": [
    "import seaborn as sns \n",
    "import pandas as pd\n",
    "import matplotlib.pyplot as plt\n",
    "\n",
    "# splitting dataframe by groups\n",
    "grouped = df.groupby(data_clean.SeriousDlqin2yrs)\n",
    "# grouping by particular dataframe column\n",
    "data_0 = grouped.get_group(0)\n",
    "data_1 = grouped.get_group(1)\n",
    "\n",
    "ax = plt.axes()\n",
    "# first boxplot\n",
    "boxplot = data_0.boxplot(column='MonthlyIncome',positions = [1], widths = 0.6, showfliers=False)\n",
    "# second boxplot\n",
    "boxplot = data_1.boxplot(column='MonthlyIncome',positions = [2], widths = 0.6, showfliers=False)\n",
    "ax.set_xticklabels(['0', '1'])\n",
    "plt.title('MonthlyIncome')"
   ]
  },
  {
   "cell_type": "code",
   "execution_count": 27,
   "id": "3b06d7f4",
   "metadata": {},
   "outputs": [
    {
     "data": {
      "text/plain": [
       "Text(0.5, 1.0, 'NumberOfOpenCreditLinesAndLoans')"
      ]
     },
     "execution_count": 27,
     "metadata": {},
     "output_type": "execute_result"
    },
    {
     "data": {
      "image/png": "[encoded data removed]",
      "text/plain": [
       "<Figure size 432x288 with 1 Axes>"
      ]
     },
     "metadata": {
      "needs_background": "light"
     },
     "output_type": "display_data"
    }
   ],
   "source": [
    "import seaborn as sns \n",
    "import pandas as pd\n",
    "import matplotlib.pyplot as plt\n",
    "\n",
    "# splitting dataframe by groups\n",
    "grouped = df.groupby(data_clean.SeriousDlqin2yrs)\n",
    "# grouping by particular dataframe column\n",
    "data_0 = grouped.get_group(0)\n",
    "data_1 = grouped.get_group(1)\n",
    "\n",
    "ax = plt.axes()\n",
    "# first boxplot\n",
    "boxplot = data_0.boxplot(column='NumberOfOpenCreditLinesAndLoans',positions = [1], widths = 0.6, showfliers=False)\n",
    "# second boxplot\n",
    "boxplot = data_1.boxplot(column='NumberOfOpenCreditLinesAndLoans',positions = [2], widths = 0.6, showfliers=False)\n",
    "ax.set_xticklabels(['0', '1'])\n",
    "plt.title('NumberOfOpenCreditLinesAndLoans')"
   ]
  },
  {
   "cell_type": "code",
   "execution_count": 28,
   "id": "1b732e97",
   "metadata": {},
   "outputs": [
    {
     "data": {
      "text/plain": [
       "Text(0.5, 1.0, 'NumberOfTimes90DaysLate')"
      ]
     },
     "execution_count": 28,
     "metadata": {},
     "output_type": "execute_result"
    },
    {
     "data": {
      "image/png": "[encoded data removed]",
      "text/plain": [
       "<Figure size 432x288 with 1 Axes>"
      ]
     },
     "metadata": {
      "needs_background": "light"
     },
     "output_type": "display_data"
    }
   ],
   "source": [
    "import seaborn as sns \n",
    "import pandas as pd\n",
    "import matplotlib.pyplot as plt\n",
    "\n",
    "# splitting dataframe by groups\n",
    "grouped = df.groupby(data_clean.SeriousDlqin2yrs)\n",
    "# grouping by particular dataframe column\n",
    "data_0 = grouped.get_group(0)\n",
    "data_1 = grouped.get_group(1)\n",
    "\n",
    "ax = plt.axes()\n",
    "# first boxplot\n",
    "boxplot = data_0.boxplot(column='NumberOfTimes90DaysLate',positions = [1], widths = 0.6, showfliers=False)\n",
    "# second boxplot\n",
    "boxplot = data_1.boxplot(column='NumberOfTimes90DaysLate',positions = [2], widths = 0.6, showfliers=False)\n",
    "ax.set_xticklabels(['0', '1'])\n",
    "plt.title('NumberOfTimes90DaysLate')"
   ]
  },
  {
   "cell_type": "code",
   "execution_count": 29,
   "id": "c885749e",
   "metadata": {},
   "outputs": [
    {
     "data": {
      "text/plain": [
       "Text(0.5, 1.0, 'NumberRealEstateLoansOrLines')"
      ]
     },
     "execution_count": 29,
     "metadata": {},
     "output_type": "execute_result"
    },
    {
     "data": {
      "image/png": "[encoded data removed]",
      "text/plain": [
       "<Figure size 432x288 with 1 Axes>"
      ]
     },
     "metadata": {
      "needs_background": "light"
     },
     "output_type": "display_data"
    }
   ],
   "source": [
    "import seaborn as sns \n",
    "import pandas as pd\n",
    "import matplotlib.pyplot as plt\n",
    "\n",
    "# splitting dataframe by groups\n",
    "grouped = df.groupby(data_clean.SeriousDlqin2yrs)\n",
    "# grouping by particular dataframe column\n",
    "data_0 = grouped.get_group(0)\n",
    "data_1 = grouped.get_group(1)\n",
    "\n",
    "ax = plt.axes()\n",
    "# first boxplot\n",
    "boxplot = data_0.boxplot(column='NumberRealEstateLoansOrLines',positions = [1], widths = 0.6, showfliers=False)\n",
    "# second boxplot\n",
    "boxplot = data_1.boxplot(column='NumberRealEstateLoansOrLines',positions = [2], widths = 0.6, showfliers=False)\n",
    "ax.set_xticklabels(['0', '1'])\n",
    "plt.title('NumberRealEstateLoansOrLines')"
   ]
  },
  {
   "cell_type": "code",
   "execution_count": 30,
   "id": "7a983f65",
   "metadata": {},
   "outputs": [
    {
     "data": {
      "text/plain": [
       "Text(0.5, 1.0, 'NumberOfTime60-89DaysPastDueNotWorse')"
      ]
     },
     "execution_count": 30,
     "metadata": {},
     "output_type": "execute_result"
    },
    {
     "data": {
      "image/png": "[encoded data removed]",
      "text/plain": [
       "<Figure size 432x288 with 1 Axes>"
      ]
     },
     "metadata": {
      "needs_background": "light"
     },
     "output_type": "display_data"
    }
   ],
   "source": [
    "import seaborn as sns \n",
    "import pandas as pd\n",
    "import matplotlib.pyplot as plt\n",
    "\n",
    "# splitting dataframe by groups\n",
    "grouped = df.groupby(data_clean.SeriousDlqin2yrs)\n",
    "# grouping by particular dataframe column\n",
    "data_0 = grouped.get_group(0)\n",
    "data_1 = grouped.get_group(1)\n",
    "\n",
    "ax = plt.axes()\n",
    "# first boxplot\n",
    "boxplot = data_0.boxplot(column='NumberOfTime60-89DaysPastDueNotWorse',positions = [1], widths = 0.6, showfliers=False)\n",
    "# second boxplot\n",
    "boxplot = data_1.boxplot(column='NumberOfTime60-89DaysPastDueNotWorse',positions = [2], widths = 0.6, showfliers=False)\n",
    "ax.set_xticklabels(['0', '1'])\n",
    "plt.title('NumberOfTime60-89DaysPastDueNotWorse')"
   ]
  },
  {
   "cell_type": "code",
   "execution_count": 31,
   "id": "2d124fc5",
   "metadata": {},
   "outputs": [
    {
     "data": {
      "text/plain": [
       "Text(0.5, 1.0, 'NumberOfDependents')"
      ]
     },
     "execution_count": 31,
     "metadata": {},
     "output_type": "execute_result"
    },
    {
     "data": {
      "image/png": "[encoded data removed]",
      "text/plain": [
       "<Figure size 432x288 with 1 Axes>"
      ]
     },
     "metadata": {
      "needs_background": "light"
     },
     "output_type": "display_data"
    }
   ],
   "source": [
    "import seaborn as sns \n",
    "import pandas as pd\n",
    "import matplotlib.pyplot as plt\n",
    "\n",
    "# splitting dataframe by groups\n",
    "grouped = df.groupby(data_clean.SeriousDlqin2yrs)\n",
    "# grouping by particular dataframe column\n",
    "data_0 = grouped.get_group(0)\n",
    "data_1 = grouped.get_group(1)\n",
    "\n",
    "ax = plt.axes()\n",
    "# first boxplot\n",
    "boxplot = data_0.boxplot(column='NumberOfDependents',positions = [1], widths = 0.6, showfliers=False)\n",
    "# second boxplot\n",
    "boxplot = data_1.boxplot(column='NumberOfDependents',positions = [2], widths = 0.6, showfliers=False)\n",
    "ax.set_xticklabels(['0', '1'])\n",
    "plt.title('NumberOfDependents')"
   ]
  },
  {
   "cell_type": "code",
   "execution_count": 32,
   "id": "101275b4",
   "metadata": {},
   "outputs": [],
   "source": [
    "import pandas as pd\n",
    "df1=pd.read_csv('scoringtest1.csv')"
   ]
  },
  {
   "cell_type": "code",
   "execution_count": 33,
   "id": "5d9cffb9",
   "metadata": {},
   "outputs": [],
   "source": [
    "x_train=df.drop(['SeriousDlqin2yrs','Unnamed: 0'] , axis = 1)\n",
    "y_train=df.SeriousDlqin2yrs\n",
    "x_test=df1.drop(['SeriousDlqin2yrs','Unnamed: 0','Unnamed: 0.1'] , axis = 1)\n",
    "y_test=df1.SeriousDlqin2yrs"
   ]
  },
  {
   "cell_type": "code",
   "execution_count": 34,
   "id": "dbbd34fc",
   "metadata": {},
   "outputs": [
    {
     "data": {
      "text/html": [
       "<div>\n",
       "<style scoped>\n",
       "    .dataframe tbody tr th:only-of-type {\n",
       "        vertical-align: middle;\n",
       "    }\n",
       "\n",
       "    .dataframe tbody tr th {\n",
       "        vertical-align: top;\n",
       "    }\n",
       "\n",
       "    .dataframe thead th {\n",
       "        text-align: right;\n",
       "    }\n",
       "</style>\n",
       "<table border=\"1\" class=\"dataframe\">\n",
       "  <thead>\n",
       "    <tr style=\"text-align: right;\">\n",
       "      <th></th>\n",
       "      <th>RevolvingUtilizationOfUnsecuredLines</th>\n",
       "      <th>age</th>\n",
       "      <th>NumberOfTime30-59DaysPastDueNotWorse</th>\n",
       "      <th>DebtRatio</th>\n",
       "      <th>MonthlyIncome</th>\n",
       "      <th>NumberOfOpenCreditLinesAndLoans</th>\n",
       "      <th>NumberOfTimes90DaysLate</th>\n",
       "      <th>NumberRealEstateLoansOrLines</th>\n",
       "      <th>NumberOfTime60-89DaysPastDueNotWorse</th>\n",
       "      <th>NumberOfDependents</th>\n",
       "    </tr>\n",
       "  </thead>\n",
       "  <tbody>\n",
       "    <tr>\n",
       "      <th>0</th>\n",
       "      <td>1.161895e-05</td>\n",
       "      <td>0.513761</td>\n",
       "      <td>0.0</td>\n",
       "      <td>0.000001</td>\n",
       "      <td>0.002049</td>\n",
       "      <td>0.172414</td>\n",
       "      <td>0.0</td>\n",
       "      <td>0.037037</td>\n",
       "      <td>0.0</td>\n",
       "      <td>0.00</td>\n",
       "    </tr>\n",
       "    <tr>\n",
       "      <th>1</th>\n",
       "      <td>2.429214e-06</td>\n",
       "      <td>0.623853</td>\n",
       "      <td>0.0</td>\n",
       "      <td>0.000001</td>\n",
       "      <td>0.002194</td>\n",
       "      <td>0.275862</td>\n",
       "      <td>0.0</td>\n",
       "      <td>0.037037</td>\n",
       "      <td>0.0</td>\n",
       "      <td>0.05</td>\n",
       "    </tr>\n",
       "    <tr>\n",
       "      <th>2</th>\n",
       "      <td>1.430571e-05</td>\n",
       "      <td>0.394495</td>\n",
       "      <td>0.0</td>\n",
       "      <td>0.007511</td>\n",
       "      <td>0.000000</td>\n",
       "      <td>0.051724</td>\n",
       "      <td>0.0</td>\n",
       "      <td>0.018519</td>\n",
       "      <td>0.0</td>\n",
       "      <td>0.05</td>\n",
       "    </tr>\n",
       "    <tr>\n",
       "      <th>3</th>\n",
       "      <td>2.546160e-08</td>\n",
       "      <td>0.605505</td>\n",
       "      <td>0.0</td>\n",
       "      <td>0.000003</td>\n",
       "      <td>0.001795</td>\n",
       "      <td>0.068966</td>\n",
       "      <td>0.0</td>\n",
       "      <td>0.000000</td>\n",
       "      <td>0.0</td>\n",
       "      <td>0.00</td>\n",
       "    </tr>\n",
       "    <tr>\n",
       "      <th>4</th>\n",
       "      <td>1.972075e-05</td>\n",
       "      <td>0.550459</td>\n",
       "      <td>0.0</td>\n",
       "      <td>0.003091</td>\n",
       "      <td>0.001795</td>\n",
       "      <td>0.034483</td>\n",
       "      <td>0.0</td>\n",
       "      <td>0.018519</td>\n",
       "      <td>0.0</td>\n",
       "      <td>0.15</td>\n",
       "    </tr>\n",
       "  </tbody>\n",
       "</table>\n",
       "</div>"
      ],
      "text/plain": [
       "   RevolvingUtilizationOfUnsecuredLines       age  \\\n",
       "0                          1.161895e-05  0.513761   \n",
       "1                          2.429214e-06  0.623853   \n",
       "2                          1.430571e-05  0.394495   \n",
       "3                          2.546160e-08  0.605505   \n",
       "4                          1.972075e-05  0.550459   \n",
       "\n",
       "   NumberOfTime30-59DaysPastDueNotWorse  DebtRatio  MonthlyIncome  \\\n",
       "0                                   0.0   0.000001       0.002049   \n",
       "1                                   0.0   0.000001       0.002194   \n",
       "2                                   0.0   0.007511       0.000000   \n",
       "3                                   0.0   0.000003       0.001795   \n",
       "4                                   0.0   0.003091       0.001795   \n",
       "\n",
       "   NumberOfOpenCreditLinesAndLoans  NumberOfTimes90DaysLate  \\\n",
       "0                         0.172414                      0.0   \n",
       "1                         0.275862                      0.0   \n",
       "2                         0.051724                      0.0   \n",
       "3                         0.068966                      0.0   \n",
       "4                         0.034483                      0.0   \n",
       "\n",
       "   NumberRealEstateLoansOrLines  NumberOfTime60-89DaysPastDueNotWorse  \\\n",
       "0                      0.037037                                   0.0   \n",
       "1                      0.037037                                   0.0   \n",
       "2                      0.018519                                   0.0   \n",
       "3                      0.000000                                   0.0   \n",
       "4                      0.018519                                   0.0   \n",
       "\n",
       "   NumberOfDependents  \n",
       "0                0.00  \n",
       "1                0.05  \n",
       "2                0.05  \n",
       "3                0.00  \n",
       "4                0.15  "
      ]
     },
     "execution_count": 34,
     "metadata": {},
     "output_type": "execute_result"
    }
   ],
   "source": [
    "x_test.head()"
   ]
  },
  {
   "cell_type": "code",
   "execution_count": 35,
   "id": "9e16fedb",
   "metadata": {},
   "outputs": [
    {
     "data": {
      "text/html": [
       "<div>\n",
       "<style scoped>\n",
       "    .dataframe tbody tr th:only-of-type {\n",
       "        vertical-align: middle;\n",
       "    }\n",
       "\n",
       "    .dataframe tbody tr th {\n",
       "        vertical-align: top;\n",
       "    }\n",
       "\n",
       "    .dataframe thead th {\n",
       "        text-align: right;\n",
       "    }\n",
       "</style>\n",
       "<table border=\"1\" class=\"dataframe\">\n",
       "  <thead>\n",
       "    <tr style=\"text-align: right;\">\n",
       "      <th></th>\n",
       "      <th>Unnamed: 0</th>\n",
       "      <th>SeriousDlqin2yrs</th>\n",
       "      <th>RevolvingUtilizationOfUnsecuredLines</th>\n",
       "      <th>age</th>\n",
       "      <th>NumberOfTime30-59DaysPastDueNotWorse</th>\n",
       "      <th>DebtRatio</th>\n",
       "      <th>MonthlyIncome</th>\n",
       "      <th>NumberOfOpenCreditLinesAndLoans</th>\n",
       "      <th>NumberOfTimes90DaysLate</th>\n",
       "      <th>NumberRealEstateLoansOrLines</th>\n",
       "      <th>NumberOfTime60-89DaysPastDueNotWorse</th>\n",
       "      <th>NumberOfDependents</th>\n",
       "    </tr>\n",
       "  </thead>\n",
       "  <tbody>\n",
       "    <tr>\n",
       "      <th>count</th>\n",
       "      <td>19094.000000</td>\n",
       "      <td>19094.000000</td>\n",
       "      <td>19094.000000</td>\n",
       "      <td>19094.000000</td>\n",
       "      <td>19094.000000</td>\n",
       "      <td>1.909400e+04</td>\n",
       "      <td>19094.000000</td>\n",
       "      <td>19094.000000</td>\n",
       "      <td>19094.000000</td>\n",
       "      <td>19094.000000</td>\n",
       "      <td>19094.000000</td>\n",
       "      <td>19094.000000</td>\n",
       "    </tr>\n",
       "    <tr>\n",
       "      <th>mean</th>\n",
       "      <td>0.500368</td>\n",
       "      <td>0.500000</td>\n",
       "      <td>0.000011</td>\n",
       "      <td>0.451392</td>\n",
       "      <td>0.013910</td>\n",
       "      <td>7.934300e-04</td>\n",
       "      <td>0.001895</td>\n",
       "      <td>0.134790</td>\n",
       "      <td>0.011723</td>\n",
       "      <td>0.016503</td>\n",
       "      <td>0.010289</td>\n",
       "      <td>0.039740</td>\n",
       "    </tr>\n",
       "    <tr>\n",
       "      <th>std</th>\n",
       "      <td>0.289408</td>\n",
       "      <td>0.500013</td>\n",
       "      <td>0.000106</td>\n",
       "      <td>0.132039</td>\n",
       "      <td>0.089583</td>\n",
       "      <td>2.471757e-03</td>\n",
       "      <td>0.001263</td>\n",
       "      <td>0.083087</td>\n",
       "      <td>0.089631</td>\n",
       "      <td>0.017691</td>\n",
       "      <td>0.089424</td>\n",
       "      <td>0.054514</td>\n",
       "    </tr>\n",
       "    <tr>\n",
       "      <th>min</th>\n",
       "      <td>0.000007</td>\n",
       "      <td>0.000000</td>\n",
       "      <td>0.000000</td>\n",
       "      <td>0.192661</td>\n",
       "      <td>0.000000</td>\n",
       "      <td>0.000000e+00</td>\n",
       "      <td>0.000000</td>\n",
       "      <td>0.000000</td>\n",
       "      <td>0.000000</td>\n",
       "      <td>0.000000</td>\n",
       "      <td>0.000000</td>\n",
       "      <td>0.000000</td>\n",
       "    </tr>\n",
       "    <tr>\n",
       "      <th>25%</th>\n",
       "      <td>0.250607</td>\n",
       "      <td>0.000000</td>\n",
       "      <td>0.000001</td>\n",
       "      <td>0.348624</td>\n",
       "      <td>0.000000</td>\n",
       "      <td>5.430326e-07</td>\n",
       "      <td>0.001136</td>\n",
       "      <td>0.068966</td>\n",
       "      <td>0.000000</td>\n",
       "      <td>0.000000</td>\n",
       "      <td>0.000000</td>\n",
       "      <td>0.000000</td>\n",
       "    </tr>\n",
       "    <tr>\n",
       "      <th>50%</th>\n",
       "      <td>0.501153</td>\n",
       "      <td>0.500000</td>\n",
       "      <td>0.000009</td>\n",
       "      <td>0.440367</td>\n",
       "      <td>0.000000</td>\n",
       "      <td>1.164936e-06</td>\n",
       "      <td>0.001795</td>\n",
       "      <td>0.120690</td>\n",
       "      <td>0.000000</td>\n",
       "      <td>0.018519</td>\n",
       "      <td>0.000000</td>\n",
       "      <td>0.000000</td>\n",
       "    </tr>\n",
       "    <tr>\n",
       "      <th>75%</th>\n",
       "      <td>0.750653</td>\n",
       "      <td>1.000000</td>\n",
       "      <td>0.000019</td>\n",
       "      <td>0.541284</td>\n",
       "      <td>0.010204</td>\n",
       "      <td>2.558795e-06</td>\n",
       "      <td>0.002216</td>\n",
       "      <td>0.189655</td>\n",
       "      <td>0.000000</td>\n",
       "      <td>0.018519</td>\n",
       "      <td>0.000000</td>\n",
       "      <td>0.050000</td>\n",
       "    </tr>\n",
       "    <tr>\n",
       "      <th>max</th>\n",
       "      <td>0.999980</td>\n",
       "      <td>1.000000</td>\n",
       "      <td>0.013588</td>\n",
       "      <td>0.880734</td>\n",
       "      <td>1.000000</td>\n",
       "      <td>1.961391e-02</td>\n",
       "      <td>0.014956</td>\n",
       "      <td>0.396552</td>\n",
       "      <td>1.000000</td>\n",
       "      <td>0.074074</td>\n",
       "      <td>1.000000</td>\n",
       "      <td>0.200000</td>\n",
       "    </tr>\n",
       "  </tbody>\n",
       "</table>\n",
       "</div>"
      ],
      "text/plain": [
       "         Unnamed: 0  SeriousDlqin2yrs  RevolvingUtilizationOfUnsecuredLines  \\\n",
       "count  19094.000000      19094.000000                          19094.000000   \n",
       "mean       0.500368          0.500000                              0.000011   \n",
       "std        0.289408          0.500013                              0.000106   \n",
       "min        0.000007          0.000000                              0.000000   \n",
       "25%        0.250607          0.000000                              0.000001   \n",
       "50%        0.501153          0.500000                              0.000009   \n",
       "75%        0.750653          1.000000                              0.000019   \n",
       "max        0.999980          1.000000                              0.013588   \n",
       "\n",
       "                age  NumberOfTime30-59DaysPastDueNotWorse     DebtRatio  \\\n",
       "count  19094.000000                          19094.000000  1.909400e+04   \n",
       "mean       0.451392                              0.013910  7.934300e-04   \n",
       "std        0.132039                              0.089583  2.471757e-03   \n",
       "min        0.192661                              0.000000  0.000000e+00   \n",
       "25%        0.348624                              0.000000  5.430326e-07   \n",
       "50%        0.440367                              0.000000  1.164936e-06   \n",
       "75%        0.541284                              0.010204  2.558795e-06   \n",
       "max        0.880734                              1.000000  1.961391e-02   \n",
       "\n",
       "       MonthlyIncome  NumberOfOpenCreditLinesAndLoans  \\\n",
       "count   19094.000000                     19094.000000   \n",
       "mean        0.001895                         0.134790   \n",
       "std         0.001263                         0.083087   \n",
       "min         0.000000                         0.000000   \n",
       "25%         0.001136                         0.068966   \n",
       "50%         0.001795                         0.120690   \n",
       "75%         0.002216                         0.189655   \n",
       "max         0.014956                         0.396552   \n",
       "\n",
       "       NumberOfTimes90DaysLate  NumberRealEstateLoansOrLines  \\\n",
       "count             19094.000000                  19094.000000   \n",
       "mean                  0.011723                      0.016503   \n",
       "std                   0.089631                      0.017691   \n",
       "min                   0.000000                      0.000000   \n",
       "25%                   0.000000                      0.000000   \n",
       "50%                   0.000000                      0.018519   \n",
       "75%                   0.000000                      0.018519   \n",
       "max                   1.000000                      0.074074   \n",
       "\n",
       "       NumberOfTime60-89DaysPastDueNotWorse  NumberOfDependents  \n",
       "count                          19094.000000        19094.000000  \n",
       "mean                               0.010289            0.039740  \n",
       "std                                0.089424            0.054514  \n",
       "min                                0.000000            0.000000  \n",
       "25%                                0.000000            0.000000  \n",
       "50%                                0.000000            0.000000  \n",
       "75%                                0.000000            0.050000  \n",
       "max                                1.000000            0.200000  "
      ]
     },
     "execution_count": 35,
     "metadata": {},
     "output_type": "execute_result"
    }
   ],
   "source": [
    "df.describe()\n"
   ]
  },
  {
   "cell_type": "code",
   "execution_count": 36,
   "id": "c7dd2318",
   "metadata": {},
   "outputs": [
    {
     "data": {
      "text/html": [
       "<div>\n",
       "<style scoped>\n",
       "    .dataframe tbody tr th:only-of-type {\n",
       "        vertical-align: middle;\n",
       "    }\n",
       "\n",
       "    .dataframe tbody tr th {\n",
       "        vertical-align: top;\n",
       "    }\n",
       "\n",
       "    .dataframe thead th {\n",
       "        text-align: right;\n",
       "    }\n",
       "</style>\n",
       "<table border=\"1\" class=\"dataframe\">\n",
       "  <thead>\n",
       "    <tr style=\"text-align: right;\">\n",
       "      <th></th>\n",
       "      <th>Unnamed: 0</th>\n",
       "      <th>Unnamed: 0.1</th>\n",
       "      <th>SeriousDlqin2yrs</th>\n",
       "      <th>RevolvingUtilizationOfUnsecuredLines</th>\n",
       "      <th>age</th>\n",
       "      <th>NumberOfTime30-59DaysPastDueNotWorse</th>\n",
       "      <th>DebtRatio</th>\n",
       "      <th>MonthlyIncome</th>\n",
       "      <th>NumberOfOpenCreditLinesAndLoans</th>\n",
       "      <th>NumberOfTimes90DaysLate</th>\n",
       "      <th>NumberRealEstateLoansOrLines</th>\n",
       "      <th>NumberOfTime60-89DaysPastDueNotWorse</th>\n",
       "      <th>NumberOfDependents</th>\n",
       "    </tr>\n",
       "  </thead>\n",
       "  <tbody>\n",
       "    <tr>\n",
       "      <th>count</th>\n",
       "      <td>19094.000000</td>\n",
       "      <td>19094.000000</td>\n",
       "      <td>19094.000000</td>\n",
       "      <td>19094.000000</td>\n",
       "      <td>19094.000000</td>\n",
       "      <td>19094.000000</td>\n",
       "      <td>1.909400e+04</td>\n",
       "      <td>19094.000000</td>\n",
       "      <td>19094.000000</td>\n",
       "      <td>19094.000000</td>\n",
       "      <td>19094.000000</td>\n",
       "      <td>19094.000000</td>\n",
       "      <td>19094.000000</td>\n",
       "    </tr>\n",
       "    <tr>\n",
       "      <th>mean</th>\n",
       "      <td>74902.824081</td>\n",
       "      <td>0.499355</td>\n",
       "      <td>0.500000</td>\n",
       "      <td>0.000012</td>\n",
       "      <td>0.452950</td>\n",
       "      <td>0.013981</td>\n",
       "      <td>8.482241e-04</td>\n",
       "      <td>0.001880</td>\n",
       "      <td>0.135142</td>\n",
       "      <td>0.011853</td>\n",
       "      <td>0.016656</td>\n",
       "      <td>0.010385</td>\n",
       "      <td>0.039182</td>\n",
       "    </tr>\n",
       "    <tr>\n",
       "      <th>std</th>\n",
       "      <td>43306.284537</td>\n",
       "      <td>0.288710</td>\n",
       "      <td>0.500013</td>\n",
       "      <td>0.000122</td>\n",
       "      <td>0.132506</td>\n",
       "      <td>0.090148</td>\n",
       "      <td>2.574322e-03</td>\n",
       "      <td>0.001212</td>\n",
       "      <td>0.083121</td>\n",
       "      <td>0.090201</td>\n",
       "      <td>0.017769</td>\n",
       "      <td>0.089998</td>\n",
       "      <td>0.054463</td>\n",
       "    </tr>\n",
       "    <tr>\n",
       "      <th>min</th>\n",
       "      <td>5.000000</td>\n",
       "      <td>0.000033</td>\n",
       "      <td>0.000000</td>\n",
       "      <td>0.000000</td>\n",
       "      <td>0.192661</td>\n",
       "      <td>0.000000</td>\n",
       "      <td>0.000000e+00</td>\n",
       "      <td>0.000000</td>\n",
       "      <td>0.000000</td>\n",
       "      <td>0.000000</td>\n",
       "      <td>0.000000</td>\n",
       "      <td>0.000000</td>\n",
       "      <td>0.000000</td>\n",
       "    </tr>\n",
       "    <tr>\n",
       "      <th>25%</th>\n",
       "      <td>37459.250000</td>\n",
       "      <td>0.249730</td>\n",
       "      <td>0.000000</td>\n",
       "      <td>0.000001</td>\n",
       "      <td>0.348624</td>\n",
       "      <td>0.000000</td>\n",
       "      <td>5.442697e-07</td>\n",
       "      <td>0.001157</td>\n",
       "      <td>0.068966</td>\n",
       "      <td>0.000000</td>\n",
       "      <td>0.000000</td>\n",
       "      <td>0.000000</td>\n",
       "      <td>0.000000</td>\n",
       "    </tr>\n",
       "    <tr>\n",
       "      <th>50%</th>\n",
       "      <td>74799.500000</td>\n",
       "      <td>0.498667</td>\n",
       "      <td>0.500000</td>\n",
       "      <td>0.000009</td>\n",
       "      <td>0.449541</td>\n",
       "      <td>0.000000</td>\n",
       "      <td>1.169272e-06</td>\n",
       "      <td>0.001795</td>\n",
       "      <td>0.120690</td>\n",
       "      <td>0.000000</td>\n",
       "      <td>0.018519</td>\n",
       "      <td>0.000000</td>\n",
       "      <td>0.000000</td>\n",
       "    </tr>\n",
       "    <tr>\n",
       "      <th>75%</th>\n",
       "      <td>112236.250000</td>\n",
       "      <td>0.748247</td>\n",
       "      <td>1.000000</td>\n",
       "      <td>0.000019</td>\n",
       "      <td>0.541284</td>\n",
       "      <td>0.010204</td>\n",
       "      <td>2.603106e-06</td>\n",
       "      <td>0.002186</td>\n",
       "      <td>0.189655</td>\n",
       "      <td>0.000000</td>\n",
       "      <td>0.037037</td>\n",
       "      <td>0.000000</td>\n",
       "      <td>0.050000</td>\n",
       "    </tr>\n",
       "    <tr>\n",
       "      <th>max</th>\n",
       "      <td>149995.000000</td>\n",
       "      <td>0.999973</td>\n",
       "      <td>1.000000</td>\n",
       "      <td>0.014554</td>\n",
       "      <td>0.880734</td>\n",
       "      <td>1.000000</td>\n",
       "      <td>1.961391e-02</td>\n",
       "      <td>0.014956</td>\n",
       "      <td>0.396552</td>\n",
       "      <td>1.000000</td>\n",
       "      <td>0.074074</td>\n",
       "      <td>1.000000</td>\n",
       "      <td>0.200000</td>\n",
       "    </tr>\n",
       "  </tbody>\n",
       "</table>\n",
       "</div>"
      ],
      "text/plain": [
       "          Unnamed: 0  Unnamed: 0.1  SeriousDlqin2yrs  \\\n",
       "count   19094.000000  19094.000000      19094.000000   \n",
       "mean    74902.824081      0.499355          0.500000   \n",
       "std     43306.284537      0.288710          0.500013   \n",
       "min         5.000000      0.000033          0.000000   \n",
       "25%     37459.250000      0.249730          0.000000   \n",
       "50%     74799.500000      0.498667          0.500000   \n",
       "75%    112236.250000      0.748247          1.000000   \n",
       "max    149995.000000      0.999973          1.000000   \n",
       "\n",
       "       RevolvingUtilizationOfUnsecuredLines           age  \\\n",
       "count                          19094.000000  19094.000000   \n",
       "mean                               0.000012      0.452950   \n",
       "std                                0.000122      0.132506   \n",
       "min                                0.000000      0.192661   \n",
       "25%                                0.000001      0.348624   \n",
       "50%                                0.000009      0.449541   \n",
       "75%                                0.000019      0.541284   \n",
       "max                                0.014554      0.880734   \n",
       "\n",
       "       NumberOfTime30-59DaysPastDueNotWorse     DebtRatio  MonthlyIncome  \\\n",
       "count                          19094.000000  1.909400e+04   19094.000000   \n",
       "mean                               0.013981  8.482241e-04       0.001880   \n",
       "std                                0.090148  2.574322e-03       0.001212   \n",
       "min                                0.000000  0.000000e+00       0.000000   \n",
       "25%                                0.000000  5.442697e-07       0.001157   \n",
       "50%                                0.000000  1.169272e-06       0.001795   \n",
       "75%                                0.010204  2.603106e-06       0.002186   \n",
       "max                                1.000000  1.961391e-02       0.014956   \n",
       "\n",
       "       NumberOfOpenCreditLinesAndLoans  NumberOfTimes90DaysLate  \\\n",
       "count                     19094.000000             19094.000000   \n",
       "mean                          0.135142                 0.011853   \n",
       "std                           0.083121                 0.090201   \n",
       "min                           0.000000                 0.000000   \n",
       "25%                           0.068966                 0.000000   \n",
       "50%                           0.120690                 0.000000   \n",
       "75%                           0.189655                 0.000000   \n",
       "max                           0.396552                 1.000000   \n",
       "\n",
       "       NumberRealEstateLoansOrLines  NumberOfTime60-89DaysPastDueNotWorse  \\\n",
       "count                  19094.000000                          19094.000000   \n",
       "mean                       0.016656                              0.010385   \n",
       "std                        0.017769                              0.089998   \n",
       "min                        0.000000                              0.000000   \n",
       "25%                        0.000000                              0.000000   \n",
       "50%                        0.018519                              0.000000   \n",
       "75%                        0.037037                              0.000000   \n",
       "max                        0.074074                              1.000000   \n",
       "\n",
       "       NumberOfDependents  \n",
       "count        19094.000000  \n",
       "mean             0.039182  \n",
       "std              0.054463  \n",
       "min              0.000000  \n",
       "25%              0.000000  \n",
       "50%              0.000000  \n",
       "75%              0.050000  \n",
       "max              0.200000  "
      ]
     },
     "execution_count": 36,
     "metadata": {},
     "output_type": "execute_result"
    }
   ],
   "source": [
    "df1.describe()"
   ]
  },
  {
   "cell_type": "code",
   "execution_count": 37,
   "id": "5d8b9add",
   "metadata": {},
   "outputs": [
    {
     "data": {
      "text/html": [
       "<div>\n",
       "<style scoped>\n",
       "    .dataframe tbody tr th:only-of-type {\n",
       "        vertical-align: middle;\n",
       "    }\n",
       "\n",
       "    .dataframe tbody tr th {\n",
       "        vertical-align: top;\n",
       "    }\n",
       "\n",
       "    .dataframe thead th {\n",
       "        text-align: right;\n",
       "    }\n",
       "</style>\n",
       "<table border=\"1\" class=\"dataframe\">\n",
       "  <thead>\n",
       "    <tr style=\"text-align: right;\">\n",
       "      <th></th>\n",
       "      <th>Unnamed: 0</th>\n",
       "      <th>Unnamed: 0.1</th>\n",
       "      <th>SeriousDlqin2yrs</th>\n",
       "      <th>RevolvingUtilizationOfUnsecuredLines</th>\n",
       "      <th>age</th>\n",
       "      <th>NumberOfTime30-59DaysPastDueNotWorse</th>\n",
       "      <th>DebtRatio</th>\n",
       "      <th>MonthlyIncome</th>\n",
       "      <th>NumberOfOpenCreditLinesAndLoans</th>\n",
       "      <th>NumberOfTimes90DaysLate</th>\n",
       "      <th>NumberRealEstateLoansOrLines</th>\n",
       "      <th>NumberOfTime60-89DaysPastDueNotWorse</th>\n",
       "      <th>NumberOfDependents</th>\n",
       "    </tr>\n",
       "  </thead>\n",
       "  <tbody>\n",
       "    <tr>\n",
       "      <th>count</th>\n",
       "      <td>19094.000000</td>\n",
       "      <td>19094.000000</td>\n",
       "      <td>19094.000000</td>\n",
       "      <td>19094.000000</td>\n",
       "      <td>19094.000000</td>\n",
       "      <td>19094.000000</td>\n",
       "      <td>1.909400e+04</td>\n",
       "      <td>19094.000000</td>\n",
       "      <td>19094.000000</td>\n",
       "      <td>19094.000000</td>\n",
       "      <td>19094.000000</td>\n",
       "      <td>19094.000000</td>\n",
       "      <td>19094.000000</td>\n",
       "    </tr>\n",
       "    <tr>\n",
       "      <th>mean</th>\n",
       "      <td>74902.824081</td>\n",
       "      <td>0.499355</td>\n",
       "      <td>0.500000</td>\n",
       "      <td>0.000012</td>\n",
       "      <td>0.452950</td>\n",
       "      <td>0.013981</td>\n",
       "      <td>8.482241e-04</td>\n",
       "      <td>0.001880</td>\n",
       "      <td>0.135142</td>\n",
       "      <td>0.011853</td>\n",
       "      <td>0.016656</td>\n",
       "      <td>0.010385</td>\n",
       "      <td>0.039182</td>\n",
       "    </tr>\n",
       "    <tr>\n",
       "      <th>std</th>\n",
       "      <td>43306.284537</td>\n",
       "      <td>0.288710</td>\n",
       "      <td>0.500013</td>\n",
       "      <td>0.000122</td>\n",
       "      <td>0.132506</td>\n",
       "      <td>0.090148</td>\n",
       "      <td>2.574322e-03</td>\n",
       "      <td>0.001212</td>\n",
       "      <td>0.083121</td>\n",
       "      <td>0.090201</td>\n",
       "      <td>0.017769</td>\n",
       "      <td>0.089998</td>\n",
       "      <td>0.054463</td>\n",
       "    </tr>\n",
       "    <tr>\n",
       "      <th>min</th>\n",
       "      <td>5.000000</td>\n",
       "      <td>0.000033</td>\n",
       "      <td>0.000000</td>\n",
       "      <td>0.000000</td>\n",
       "      <td>0.192661</td>\n",
       "      <td>0.000000</td>\n",
       "      <td>0.000000e+00</td>\n",
       "      <td>0.000000</td>\n",
       "      <td>0.000000</td>\n",
       "      <td>0.000000</td>\n",
       "      <td>0.000000</td>\n",
       "      <td>0.000000</td>\n",
       "      <td>0.000000</td>\n",
       "    </tr>\n",
       "    <tr>\n",
       "      <th>25%</th>\n",
       "      <td>37459.250000</td>\n",
       "      <td>0.249730</td>\n",
       "      <td>0.000000</td>\n",
       "      <td>0.000001</td>\n",
       "      <td>0.348624</td>\n",
       "      <td>0.000000</td>\n",
       "      <td>5.442697e-07</td>\n",
       "      <td>0.001157</td>\n",
       "      <td>0.068966</td>\n",
       "      <td>0.000000</td>\n",
       "      <td>0.000000</td>\n",
       "      <td>0.000000</td>\n",
       "      <td>0.000000</td>\n",
       "    </tr>\n",
       "    <tr>\n",
       "      <th>50%</th>\n",
       "      <td>74799.500000</td>\n",
       "      <td>0.498667</td>\n",
       "      <td>0.500000</td>\n",
       "      <td>0.000009</td>\n",
       "      <td>0.449541</td>\n",
       "      <td>0.000000</td>\n",
       "      <td>1.169272e-06</td>\n",
       "      <td>0.001795</td>\n",
       "      <td>0.120690</td>\n",
       "      <td>0.000000</td>\n",
       "      <td>0.018519</td>\n",
       "      <td>0.000000</td>\n",
       "      <td>0.000000</td>\n",
       "    </tr>\n",
       "    <tr>\n",
       "      <th>75%</th>\n",
       "      <td>112236.250000</td>\n",
       "      <td>0.748247</td>\n",
       "      <td>1.000000</td>\n",
       "      <td>0.000019</td>\n",
       "      <td>0.541284</td>\n",
       "      <td>0.010204</td>\n",
       "      <td>2.603106e-06</td>\n",
       "      <td>0.002186</td>\n",
       "      <td>0.189655</td>\n",
       "      <td>0.000000</td>\n",
       "      <td>0.037037</td>\n",
       "      <td>0.000000</td>\n",
       "      <td>0.050000</td>\n",
       "    </tr>\n",
       "    <tr>\n",
       "      <th>max</th>\n",
       "      <td>149995.000000</td>\n",
       "      <td>0.999973</td>\n",
       "      <td>1.000000</td>\n",
       "      <td>0.014554</td>\n",
       "      <td>0.880734</td>\n",
       "      <td>1.000000</td>\n",
       "      <td>1.961391e-02</td>\n",
       "      <td>0.014956</td>\n",
       "      <td>0.396552</td>\n",
       "      <td>1.000000</td>\n",
       "      <td>0.074074</td>\n",
       "      <td>1.000000</td>\n",
       "      <td>0.200000</td>\n",
       "    </tr>\n",
       "  </tbody>\n",
       "</table>\n",
       "</div>"
      ],
      "text/plain": [
       "          Unnamed: 0  Unnamed: 0.1  SeriousDlqin2yrs  \\\n",
       "count   19094.000000  19094.000000      19094.000000   \n",
       "mean    74902.824081      0.499355          0.500000   \n",
       "std     43306.284537      0.288710          0.500013   \n",
       "min         5.000000      0.000033          0.000000   \n",
       "25%     37459.250000      0.249730          0.000000   \n",
       "50%     74799.500000      0.498667          0.500000   \n",
       "75%    112236.250000      0.748247          1.000000   \n",
       "max    149995.000000      0.999973          1.000000   \n",
       "\n",
       "       RevolvingUtilizationOfUnsecuredLines           age  \\\n",
       "count                          19094.000000  19094.000000   \n",
       "mean                               0.000012      0.452950   \n",
       "std                                0.000122      0.132506   \n",
       "min                                0.000000      0.192661   \n",
       "25%                                0.000001      0.348624   \n",
       "50%                                0.000009      0.449541   \n",
       "75%                                0.000019      0.541284   \n",
       "max                                0.014554      0.880734   \n",
       "\n",
       "       NumberOfTime30-59DaysPastDueNotWorse     DebtRatio  MonthlyIncome  \\\n",
       "count                          19094.000000  1.909400e+04   19094.000000   \n",
       "mean                               0.013981  8.482241e-04       0.001880   \n",
       "std                                0.090148  2.574322e-03       0.001212   \n",
       "min                                0.000000  0.000000e+00       0.000000   \n",
       "25%                                0.000000  5.442697e-07       0.001157   \n",
       "50%                                0.000000  1.169272e-06       0.001795   \n",
       "75%                                0.010204  2.603106e-06       0.002186   \n",
       "max                                1.000000  1.961391e-02       0.014956   \n",
       "\n",
       "       NumberOfOpenCreditLinesAndLoans  NumberOfTimes90DaysLate  \\\n",
       "count                     19094.000000             19094.000000   \n",
       "mean                          0.135142                 0.011853   \n",
       "std                           0.083121                 0.090201   \n",
       "min                           0.000000                 0.000000   \n",
       "25%                           0.068966                 0.000000   \n",
       "50%                           0.120690                 0.000000   \n",
       "75%                           0.189655                 0.000000   \n",
       "max                           0.396552                 1.000000   \n",
       "\n",
       "       NumberRealEstateLoansOrLines  NumberOfTime60-89DaysPastDueNotWorse  \\\n",
       "count                  19094.000000                          19094.000000   \n",
       "mean                       0.016656                              0.010385   \n",
       "std                        0.017769                              0.089998   \n",
       "min                        0.000000                              0.000000   \n",
       "25%                        0.000000                              0.000000   \n",
       "50%                        0.018519                              0.000000   \n",
       "75%                        0.037037                              0.000000   \n",
       "max                        0.074074                              1.000000   \n",
       "\n",
       "       NumberOfDependents  \n",
       "count        19094.000000  \n",
       "mean             0.039182  \n",
       "std              0.054463  \n",
       "min              0.000000  \n",
       "25%              0.000000  \n",
       "50%              0.000000  \n",
       "75%              0.050000  \n",
       "max              0.200000  "
      ]
     },
     "execution_count": 37,
     "metadata": {},
     "output_type": "execute_result"
    }
   ],
   "source": [
    "df1.describe()"
   ]
  },
  {
   "cell_type": "code",
   "execution_count": 38,
   "id": "c16618c8",
   "metadata": {},
   "outputs": [
    {
     "data": {
      "text/plain": [
       "RandomForestClassifier(criterion='entropy')"
      ]
     },
     "execution_count": 38,
     "metadata": {},
     "output_type": "execute_result"
    }
   ],
   "source": [
    "#Fitting Decision Tree classifier to the training set  \n",
    "from sklearn.ensemble import RandomForestClassifier  \n",
    "classifier= RandomForestClassifier(n_estimators= 100, criterion=\"entropy\")  \n",
    "classifier.fit(x_train, y_train)  "
   ]
  },
  {
   "cell_type": "code",
   "execution_count": 39,
   "id": "4e5f01ca",
   "metadata": {},
   "outputs": [
    {
     "data": {
      "text/plain": [
       "RandomForestClassifier(criterion='entropy')"
      ]
     },
     "execution_count": 39,
     "metadata": {},
     "output_type": "execute_result"
    }
   ],
   "source": [
    "classifier"
   ]
  },
  {
   "cell_type": "code",
   "execution_count": 40,
   "id": "a16fb5cc",
   "metadata": {},
   "outputs": [],
   "source": [
    "#Predicting the test set result  \n",
    "y_pred= classifier.predict(x_test)  \n"
   ]
  },
  {
   "cell_type": "code",
   "execution_count": 41,
   "id": "d1b44237",
   "metadata": {},
   "outputs": [
    {
     "data": {
      "text/plain": [
       "array([0., 0., 0., ..., 1., 1., 1.])"
      ]
     },
     "execution_count": 41,
     "metadata": {},
     "output_type": "execute_result"
    }
   ],
   "source": [
    "y_pred"
   ]
  },
  {
   "cell_type": "code",
   "execution_count": 42,
   "id": "93207020",
   "metadata": {},
   "outputs": [],
   "source": [
    "#Creating the Confusion matrix  \n",
    "from sklearn.metrics import confusion_matrix  \n",
    "cm= confusion_matrix(y_test, y_pred)  "
   ]
  },
  {
   "cell_type": "code",
   "execution_count": 43,
   "id": "c1f60992",
   "metadata": {},
   "outputs": [
    {
     "data": {
      "text/plain": [
       "array([[7713, 1834],\n",
       "       [   6, 9541]], dtype=int64)"
      ]
     },
     "execution_count": 43,
     "metadata": {},
     "output_type": "execute_result"
    }
   ],
   "source": [
    "cm"
   ]
  },
  {
   "cell_type": "code",
   "execution_count": 44,
   "id": "8ac69840",
   "metadata": {},
   "outputs": [
    {
     "name": "stdout",
     "output_type": "stream",
     "text": [
      "Accuracy :  0.9036346496281554\n"
     ]
    }
   ],
   "source": [
    "from sklearn.metrics import accuracy_score\n",
    "print (\"Accuracy : \", accuracy_score(y_test, y_pred))"
   ]
  },
  {
   "cell_type": "code",
   "execution_count": 45,
   "id": "ff951061",
   "metadata": {},
   "outputs": [
    {
     "data": {
      "text/plain": [
       "0.8072692992563109"
      ]
     },
     "execution_count": 45,
     "metadata": {},
     "output_type": "execute_result"
    }
   ],
   "source": [
    "from sklearn.metrics import cohen_kappa_score\n",
    "cohen_kappa_score(y_test,y_pred)"
   ]
  },
  {
   "cell_type": "code",
   "execution_count": 46,
   "id": "69fd4b77",
   "metadata": {},
   "outputs": [
    {
     "data": {
      "text/plain": [
       "0.8224871771078994"
      ]
     },
     "execution_count": 46,
     "metadata": {},
     "output_type": "execute_result"
    }
   ],
   "source": [
    "import numpy as np\n",
    "np.corrcoef(y_test, y_pred)[0,1]"
   ]
  },
  {
   "cell_type": "code",
   "execution_count": 47,
   "id": "efa6405f",
   "metadata": {},
   "outputs": [
    {
     "name": "stdout",
     "output_type": "stream",
     "text": [
      "col_0              0.0   1.0\n",
      "SeriousDlqin2yrs            \n",
      "0.0               7713  1834\n",
      "1.0                  6  9541\n"
     ]
    }
   ],
   "source": [
    "import pandas as pd\n",
    "data_crosstab = pd.crosstab(y_test,y_pred)\n",
    "print(data_crosstab)"
   ]
  }
 ],
 "metadata": {
  "kernelspec": {
   "display_name": "Python 3 (ipykernel)",
   "language": "python",
   "name": "python3"
  },
  "language_info": {
   "codemirror_mode": {
    "name": "ipython",
    "version": 3
   },
   "file_extension": ".py",
   "mimetype": "text/x-python",
   "name": "python",
   "nbconvert_exporter": "python",
   "pygments_lexer": "ipython3",
   "version": "3.9.7"
  }
 },
 "nbformat": 4,
 "nbformat_minor": 5
}
